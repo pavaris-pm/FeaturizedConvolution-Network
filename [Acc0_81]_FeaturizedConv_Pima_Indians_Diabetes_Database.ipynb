{
  "cells": [
    {
      "cell_type": "markdown",
      "metadata": {
        "id": "0yS9XmwcqKtq"
      },
      "source": [
        "# Pima Indians Diabetes Database\n",
        "\n",
        "## Sources:\n",
        "- Original owners: `National Institute of Diabetes and Digestive and Kidney Diseases`\n",
        "- Donor of database: `Research Center, RMI Group Leader Applied Physics Laboratory, The Johns Hopkins University`\n",
        "- Number of Instances: 768\n",
        "- Number of Attributes: 8 plus class\n",
        "- For Each Attribute: (all numeric-valued)\n",
        "   1. Number of times pregnant\n",
        "   2. Plasma glucose concentration a 2 hours in an oral glucose tolerance test\n",
        "   3. Diastolic blood pressure (mm Hg)\n",
        "   4. Triceps skin fold thickness (mm)\n",
        "   5. 2-Hour serum insulin (mu U/ml)\n",
        "   6. Body mass index (weight in kg/(height in m)^2)\n",
        "   7. Diabetes pedigree function\n",
        "   8. Age (years)\n",
        "   9. Class variable (0 or 1)\n",
        "- Missing Attribute Values: Yes\n",
        "- Class Distribution:\n",
        "  * **Positive Tested** Class value = 1\n",
        "  * **Negative Tested** Class value = 0\n",
        "- Class Value  Number of instances\n",
        "  * Class 0: 500\n",
        "  * Class 1: 268"
      ]
    },
    {
      "cell_type": "markdown",
      "metadata": {
        "id": "xCkt8mpXuV7s"
      },
      "source": [
        "## Import neccessary libraries\n"
      ]
    },
    {
      "cell_type": "code",
      "execution_count": 1,
      "metadata": {
        "id": "GpXZOz6860r_",
        "colab": {
          "base_uri": "https://localhost:8080/"
        },
        "outputId": "92fe1fe2-1ca7-4cfc-95dd-11a5709ac4ab"
      },
      "outputs": [
        {
          "output_type": "stream",
          "name": "stdout",
          "text": [
            "\u001b[2K     \u001b[90m━━━━━━━━━━━━━━━━━━━━━━━━━━━━━━━━━━━━━━━━\u001b[0m \u001b[32m2.2/2.2 MB\u001b[0m \u001b[31m6.0 MB/s\u001b[0m eta \u001b[36m0:00:00\u001b[0m\n",
            "\u001b[2K     \u001b[90m━━━━━━━━━━━━━━━━━━━━━━━━━━━━━━━━━━━━━━\u001b[0m \u001b[32m294.9/294.9 kB\u001b[0m \u001b[31m10.6 MB/s\u001b[0m eta \u001b[36m0:00:00\u001b[0m\n",
            "\u001b[2K     \u001b[90m━━━━━━━━━━━━━━━━━━━━━━━━━━━━━━━━━━━━━━━━\u001b[0m \u001b[32m1.3/1.3 MB\u001b[0m \u001b[31m15.6 MB/s\u001b[0m eta \u001b[36m0:00:00\u001b[0m\n",
            "\u001b[2K     \u001b[90m━━━━━━━━━━━━━━━━━━━━━━━━━━━━━━━━━━━━━━━━\u001b[0m \u001b[32m7.6/7.6 MB\u001b[0m \u001b[31m17.3 MB/s\u001b[0m eta \u001b[36m0:00:00\u001b[0m\n",
            "\u001b[2K     \u001b[90m━━━━━━━━━━━━━━━━━━━━━━━━━━━━━━━━━━━━━━━━\u001b[0m \u001b[32m7.8/7.8 MB\u001b[0m \u001b[31m52.0 MB/s\u001b[0m eta \u001b[36m0:00:00\u001b[0m\n",
            "\u001b[2K     \u001b[90m━━━━━━━━━━━━━━━━━━━━━━━━━━━━━━━━━━━━━━━━\u001b[0m \u001b[32m81.4/81.4 kB\u001b[0m \u001b[31m1.4 MB/s\u001b[0m eta \u001b[36m0:00:00\u001b[0m\n",
            "\u001b[2K     \u001b[90m━━━━━━━━━━━━━━━━━━━━━━━━━━━━━━━━━━━━━━━\u001b[0m \u001b[32m519.6/519.6 kB\u001b[0m \u001b[31m5.7 MB/s\u001b[0m eta \u001b[36m0:00:00\u001b[0m\n",
            "\u001b[2K     \u001b[90m━━━━━━━━━━━━━━━━━━━━━━━━━━━━━━━━━━━━━━━\u001b[0m \u001b[32m115.3/115.3 kB\u001b[0m \u001b[31m4.4 MB/s\u001b[0m eta \u001b[36m0:00:00\u001b[0m\n",
            "\u001b[2K     \u001b[90m━━━━━━━━━━━━━━━━━━━━━━━━━━━━━━━━━━━━━━━\u001b[0m \u001b[32m194.1/194.1 kB\u001b[0m \u001b[31m7.1 MB/s\u001b[0m eta \u001b[36m0:00:00\u001b[0m\n",
            "\u001b[2K     \u001b[90m━━━━━━━━━━━━━━━━━━━━━━━━━━━━━━━━━━━━━━━\u001b[0m \u001b[32m134.8/134.8 kB\u001b[0m \u001b[31m6.1 MB/s\u001b[0m eta \u001b[36m0:00:00\u001b[0m\n",
            "\u001b[2K     \u001b[90m━━━━━━━━━━━━━━━━━━━━━━━━━━━━━━━━━━━━━━━\u001b[0m \u001b[32m764.8/764.8 kB\u001b[0m \u001b[31m6.1 MB/s\u001b[0m eta \u001b[36m0:00:00\u001b[0m\n",
            "\u001b[?25h"
          ]
        }
      ],
      "source": [
        "!pip -q install timm\n",
        "!pip -q install transformers\n",
        "!pip -q install evaluate\n",
        "!pip -q install lion-pytorch\n",
        "!pip -q install torchmetrics\n",
        "!pip -q install torchsummary"
      ]
    },
    {
      "cell_type": "code",
      "execution_count": 2,
      "metadata": {
        "id": "WltXMgIcoSh_"
      },
      "outputs": [],
      "source": [
        "from numpy import loadtxt\n",
        "import numpy as np\n",
        "import pandas as pd\n",
        "# for the improved version, for more flexible of my design, we decide to use PyTorch framework to create a model\n",
        "import torch\n",
        "import torch.nn as nn\n",
        "import timm\n",
        "from tqdm.auto import tqdm\n",
        "from torch.utils.data import Dataset, DataLoader\n",
        "from typing import List, Tuple, Dict\n",
        "from torchmetrics import Accuracy\n",
        "from torchmetrics.classification import BinaryAccuracy\n",
        "from torchsummary import summary\n",
        "from sklearn.model_selection import StratifiedKFold\n",
        "from lion_pytorch import Lion\n",
        "import matplotlib.pyplot as plt\n",
        "import glob\n",
        "import os\n",
        "%matplotlib inline"
      ]
    },
    {
      "cell_type": "markdown",
      "metadata": {
        "id": "XuZkvagpsn0Z"
      },
      "source": [
        "## Prepare data for training"
      ]
    },
    {
      "cell_type": "code",
      "execution_count": 3,
      "metadata": {
        "colab": {
          "base_uri": "https://localhost:8080/"
        },
        "id": "YVciuImOp4He",
        "outputId": "505c5241-d1ca-43e6-bcfd-03417797e481"
      },
      "outputs": [
        {
          "output_type": "stream",
          "name": "stdout",
          "text": [
            "--2023-09-20 11:42:25--  https://raw.githubusercontent.com/jbrownlee/Datasets/master/pima-indians-diabetes.data.csv\n",
            "Resolving raw.githubusercontent.com (raw.githubusercontent.com)... 185.199.108.133, 185.199.109.133, 185.199.110.133, ...\n",
            "Connecting to raw.githubusercontent.com (raw.githubusercontent.com)|185.199.108.133|:443... connected.\n",
            "HTTP request sent, awaiting response... 200 OK\n",
            "Length: 23278 (23K) [text/plain]\n",
            "Saving to: ‘pima-indians-diabetes.data.csv’\n",
            "\n",
            "\r          pima-indi   0%[                    ]       0  --.-KB/s               \rpima-indians-diabet 100%[===================>]  22.73K  --.-KB/s    in 0.001s  \n",
            "\n",
            "2023-09-20 11:42:25 (16.3 MB/s) - ‘pima-indians-diabetes.data.csv’ saved [23278/23278]\n",
            "\n",
            "--2023-09-20 11:42:25--  https://raw.githubusercontent.com/jbrownlee/Datasets/master/pima-indians-diabetes.names\n",
            "Resolving raw.githubusercontent.com (raw.githubusercontent.com)... 185.199.108.133, 185.199.109.133, 185.199.110.133, ...\n",
            "Connecting to raw.githubusercontent.com (raw.githubusercontent.com)|185.199.108.133|:443... connected.\n",
            "HTTP request sent, awaiting response... 200 OK\n",
            "Length: 3066 (3.0K) [text/plain]\n",
            "Saving to: ‘pima-indians-diabetes.names’\n",
            "\n",
            "pima-indians-diabet 100%[===================>]   2.99K  --.-KB/s    in 0s      \n",
            "\n",
            "2023-09-20 11:42:25 (23.7 MB/s) - ‘pima-indians-diabetes.names’ saved [3066/3066]\n",
            "\n"
          ]
        }
      ],
      "source": [
        "# download diabetes datasest and its description\n",
        "!wget \"https://raw.githubusercontent.com/jbrownlee/Datasets/master/pima-indians-diabetes.data.csv\"\n",
        "!wget \"https://raw.githubusercontent.com/jbrownlee/Datasets/master/pima-indians-diabetes.names\""
      ]
    },
    {
      "cell_type": "markdown",
      "metadata": {
        "id": "ivhbe9h3uLNX"
      },
      "source": [
        "## TODO 1: Split dataset into Input (X) and Output (y)\n",
        "\n",
        "**Score: 1%**\n",
        "\n",
        "**Input Variables (X):**\n",
        "1. Number of times pregnant\n",
        "2. Plasma glucose concentration at 2 hours in an oral glucose tolerance test\n",
        "3. Diastolic blood pressure (mm Hg)\n",
        "4. Triceps skin fold thickness (mm)\n",
        "5. 2-hour serum insulin (mu U/ml)\n",
        "6. Body mass index (weight in kg/(height in m)^2)\n",
        "7. Diabetes pedigree function\n",
        "8. Age (years)\n",
        "\n",
        "**Output Variables (y):**\n",
        "9. Class variable (0 or 1)\n",
        "\n",
        "**Guideline:**\n",
        "\n",
        "You can split the array into two arrays by selecting subsets of columns\n",
        "using the standard NumPy slice operator or “:”.\n",
        "\n",
        "Remember, in NumPy, the first column always started at 0\n",
        "\n",
        "**Instruction:**\n",
        "\n",
        "Split data into input (`X`) and output (`y`) variables, respectively. Repleace `None` to a number."
      ]
    },
    {
      "cell_type": "code",
      "execution_count": 4,
      "metadata": {
        "colab": {
          "base_uri": "https://localhost:8080/"
        },
        "id": "Qz33554Fg_Bp",
        "outputId": "44ec9b2a-e9d7-445f-e1b5-ae47ea6ffa4e"
      },
      "outputs": [
        {
          "output_type": "stream",
          "name": "stdout",
          "text": [
            "(768, 9)\n"
          ]
        },
        {
          "output_type": "execute_result",
          "data": {
            "text/plain": [
              "array([[  6.   , 148.   ,  72.   , ...,   0.627,  50.   ,   1.   ],\n",
              "       [  1.   ,  85.   ,  66.   , ...,   0.351,  31.   ,   0.   ],\n",
              "       [  8.   , 183.   ,  64.   , ...,   0.672,  32.   ,   1.   ],\n",
              "       ...,\n",
              "       [  5.   , 121.   ,  72.   , ...,   0.245,  30.   ,   0.   ],\n",
              "       [  1.   , 126.   ,  60.   , ...,   0.349,  47.   ,   1.   ],\n",
              "       [  1.   ,  93.   ,  70.   , ...,   0.315,  23.   ,   0.   ]])"
            ]
          },
          "metadata": {},
          "execution_count": 4
        }
      ],
      "source": [
        "# check for the datashape in order to split the dataset\n",
        "dataset = loadtxt('/content/pima-indians-diabetes.data.csv', delimiter=',')\n",
        "print(dataset.shape)\n",
        "dataset"
      ]
    },
    {
      "cell_type": "code",
      "execution_count": 5,
      "metadata": {
        "id": "XGIAFis8tYTo"
      },
      "outputs": [],
      "source": [
        "# load the dataset\n",
        "dataset = loadtxt('/content/pima-indians-diabetes.data.csv', delimiter=',')\n"
      ]
    },
    {
      "cell_type": "markdown",
      "source": [
        "# **Let's Try Preprocessing**\n",
        "\n"
      ],
      "metadata": {
        "id": "6XojR8tE_2eW"
      }
    },
    {
      "cell_type": "code",
      "source": [
        "df = pd.DataFrame(dataset)"
      ],
      "metadata": {
        "id": "2MAhYxUTDTjs"
      },
      "execution_count": 6,
      "outputs": []
    },
    {
      "cell_type": "code",
      "source": [
        "df.info()"
      ],
      "metadata": {
        "colab": {
          "base_uri": "https://localhost:8080/"
        },
        "id": "fp_xWV9UDf8X",
        "outputId": "2e539209-6a02-4260-e5a7-2eec1fc9078f"
      },
      "execution_count": 7,
      "outputs": [
        {
          "output_type": "stream",
          "name": "stdout",
          "text": [
            "<class 'pandas.core.frame.DataFrame'>\n",
            "RangeIndex: 768 entries, 0 to 767\n",
            "Data columns (total 9 columns):\n",
            " #   Column  Non-Null Count  Dtype  \n",
            "---  ------  --------------  -----  \n",
            " 0   0       768 non-null    float64\n",
            " 1   1       768 non-null    float64\n",
            " 2   2       768 non-null    float64\n",
            " 3   3       768 non-null    float64\n",
            " 4   4       768 non-null    float64\n",
            " 5   5       768 non-null    float64\n",
            " 6   6       768 non-null    float64\n",
            " 7   7       768 non-null    float64\n",
            " 8   8       768 non-null    float64\n",
            "dtypes: float64(9)\n",
            "memory usage: 54.1 KB\n"
          ]
        }
      ]
    },
    {
      "cell_type": "code",
      "source": [
        "df.describe()"
      ],
      "metadata": {
        "colab": {
          "base_uri": "https://localhost:8080/",
          "height": 300
        },
        "id": "-23-zniEDucu",
        "outputId": "841092a8-a573-4364-e361-f52d475d58b6"
      },
      "execution_count": 8,
      "outputs": [
        {
          "output_type": "execute_result",
          "data": {
            "text/plain": [
              "                0           1           2           3           4           5  \\\n",
              "count  768.000000  768.000000  768.000000  768.000000  768.000000  768.000000   \n",
              "mean     3.845052  120.894531   69.105469   20.536458   79.799479   31.992578   \n",
              "std      3.369578   31.972618   19.355807   15.952218  115.244002    7.884160   \n",
              "min      0.000000    0.000000    0.000000    0.000000    0.000000    0.000000   \n",
              "25%      1.000000   99.000000   62.000000    0.000000    0.000000   27.300000   \n",
              "50%      3.000000  117.000000   72.000000   23.000000   30.500000   32.000000   \n",
              "75%      6.000000  140.250000   80.000000   32.000000  127.250000   36.600000   \n",
              "max     17.000000  199.000000  122.000000   99.000000  846.000000   67.100000   \n",
              "\n",
              "                6           7           8  \n",
              "count  768.000000  768.000000  768.000000  \n",
              "mean     0.471876   33.240885    0.348958  \n",
              "std      0.331329   11.760232    0.476951  \n",
              "min      0.078000   21.000000    0.000000  \n",
              "25%      0.243750   24.000000    0.000000  \n",
              "50%      0.372500   29.000000    0.000000  \n",
              "75%      0.626250   41.000000    1.000000  \n",
              "max      2.420000   81.000000    1.000000  "
            ],
            "text/html": [
              "\n",
              "  <div id=\"df-ff840625-d67f-4e5f-a82b-8b8395f2a2d5\" class=\"colab-df-container\">\n",
              "    <div>\n",
              "<style scoped>\n",
              "    .dataframe tbody tr th:only-of-type {\n",
              "        vertical-align: middle;\n",
              "    }\n",
              "\n",
              "    .dataframe tbody tr th {\n",
              "        vertical-align: top;\n",
              "    }\n",
              "\n",
              "    .dataframe thead th {\n",
              "        text-align: right;\n",
              "    }\n",
              "</style>\n",
              "<table border=\"1\" class=\"dataframe\">\n",
              "  <thead>\n",
              "    <tr style=\"text-align: right;\">\n",
              "      <th></th>\n",
              "      <th>0</th>\n",
              "      <th>1</th>\n",
              "      <th>2</th>\n",
              "      <th>3</th>\n",
              "      <th>4</th>\n",
              "      <th>5</th>\n",
              "      <th>6</th>\n",
              "      <th>7</th>\n",
              "      <th>8</th>\n",
              "    </tr>\n",
              "  </thead>\n",
              "  <tbody>\n",
              "    <tr>\n",
              "      <th>count</th>\n",
              "      <td>768.000000</td>\n",
              "      <td>768.000000</td>\n",
              "      <td>768.000000</td>\n",
              "      <td>768.000000</td>\n",
              "      <td>768.000000</td>\n",
              "      <td>768.000000</td>\n",
              "      <td>768.000000</td>\n",
              "      <td>768.000000</td>\n",
              "      <td>768.000000</td>\n",
              "    </tr>\n",
              "    <tr>\n",
              "      <th>mean</th>\n",
              "      <td>3.845052</td>\n",
              "      <td>120.894531</td>\n",
              "      <td>69.105469</td>\n",
              "      <td>20.536458</td>\n",
              "      <td>79.799479</td>\n",
              "      <td>31.992578</td>\n",
              "      <td>0.471876</td>\n",
              "      <td>33.240885</td>\n",
              "      <td>0.348958</td>\n",
              "    </tr>\n",
              "    <tr>\n",
              "      <th>std</th>\n",
              "      <td>3.369578</td>\n",
              "      <td>31.972618</td>\n",
              "      <td>19.355807</td>\n",
              "      <td>15.952218</td>\n",
              "      <td>115.244002</td>\n",
              "      <td>7.884160</td>\n",
              "      <td>0.331329</td>\n",
              "      <td>11.760232</td>\n",
              "      <td>0.476951</td>\n",
              "    </tr>\n",
              "    <tr>\n",
              "      <th>min</th>\n",
              "      <td>0.000000</td>\n",
              "      <td>0.000000</td>\n",
              "      <td>0.000000</td>\n",
              "      <td>0.000000</td>\n",
              "      <td>0.000000</td>\n",
              "      <td>0.000000</td>\n",
              "      <td>0.078000</td>\n",
              "      <td>21.000000</td>\n",
              "      <td>0.000000</td>\n",
              "    </tr>\n",
              "    <tr>\n",
              "      <th>25%</th>\n",
              "      <td>1.000000</td>\n",
              "      <td>99.000000</td>\n",
              "      <td>62.000000</td>\n",
              "      <td>0.000000</td>\n",
              "      <td>0.000000</td>\n",
              "      <td>27.300000</td>\n",
              "      <td>0.243750</td>\n",
              "      <td>24.000000</td>\n",
              "      <td>0.000000</td>\n",
              "    </tr>\n",
              "    <tr>\n",
              "      <th>50%</th>\n",
              "      <td>3.000000</td>\n",
              "      <td>117.000000</td>\n",
              "      <td>72.000000</td>\n",
              "      <td>23.000000</td>\n",
              "      <td>30.500000</td>\n",
              "      <td>32.000000</td>\n",
              "      <td>0.372500</td>\n",
              "      <td>29.000000</td>\n",
              "      <td>0.000000</td>\n",
              "    </tr>\n",
              "    <tr>\n",
              "      <th>75%</th>\n",
              "      <td>6.000000</td>\n",
              "      <td>140.250000</td>\n",
              "      <td>80.000000</td>\n",
              "      <td>32.000000</td>\n",
              "      <td>127.250000</td>\n",
              "      <td>36.600000</td>\n",
              "      <td>0.626250</td>\n",
              "      <td>41.000000</td>\n",
              "      <td>1.000000</td>\n",
              "    </tr>\n",
              "    <tr>\n",
              "      <th>max</th>\n",
              "      <td>17.000000</td>\n",
              "      <td>199.000000</td>\n",
              "      <td>122.000000</td>\n",
              "      <td>99.000000</td>\n",
              "      <td>846.000000</td>\n",
              "      <td>67.100000</td>\n",
              "      <td>2.420000</td>\n",
              "      <td>81.000000</td>\n",
              "      <td>1.000000</td>\n",
              "    </tr>\n",
              "  </tbody>\n",
              "</table>\n",
              "</div>\n",
              "    <div class=\"colab-df-buttons\">\n",
              "\n",
              "  <div class=\"colab-df-container\">\n",
              "    <button class=\"colab-df-convert\" onclick=\"convertToInteractive('df-ff840625-d67f-4e5f-a82b-8b8395f2a2d5')\"\n",
              "            title=\"Convert this dataframe to an interactive table.\"\n",
              "            style=\"display:none;\">\n",
              "\n",
              "  <svg xmlns=\"http://www.w3.org/2000/svg\" height=\"24px\" viewBox=\"0 -960 960 960\">\n",
              "    <path d=\"M120-120v-720h720v720H120Zm60-500h600v-160H180v160Zm220 220h160v-160H400v160Zm0 220h160v-160H400v160ZM180-400h160v-160H180v160Zm440 0h160v-160H620v160ZM180-180h160v-160H180v160Zm440 0h160v-160H620v160Z\"/>\n",
              "  </svg>\n",
              "    </button>\n",
              "\n",
              "  <style>\n",
              "    .colab-df-container {\n",
              "      display:flex;\n",
              "      gap: 12px;\n",
              "    }\n",
              "\n",
              "    .colab-df-convert {\n",
              "      background-color: #E8F0FE;\n",
              "      border: none;\n",
              "      border-radius: 50%;\n",
              "      cursor: pointer;\n",
              "      display: none;\n",
              "      fill: #1967D2;\n",
              "      height: 32px;\n",
              "      padding: 0 0 0 0;\n",
              "      width: 32px;\n",
              "    }\n",
              "\n",
              "    .colab-df-convert:hover {\n",
              "      background-color: #E2EBFA;\n",
              "      box-shadow: 0px 1px 2px rgba(60, 64, 67, 0.3), 0px 1px 3px 1px rgba(60, 64, 67, 0.15);\n",
              "      fill: #174EA6;\n",
              "    }\n",
              "\n",
              "    .colab-df-buttons div {\n",
              "      margin-bottom: 4px;\n",
              "    }\n",
              "\n",
              "    [theme=dark] .colab-df-convert {\n",
              "      background-color: #3B4455;\n",
              "      fill: #D2E3FC;\n",
              "    }\n",
              "\n",
              "    [theme=dark] .colab-df-convert:hover {\n",
              "      background-color: #434B5C;\n",
              "      box-shadow: 0px 1px 3px 1px rgba(0, 0, 0, 0.15);\n",
              "      filter: drop-shadow(0px 1px 2px rgba(0, 0, 0, 0.3));\n",
              "      fill: #FFFFFF;\n",
              "    }\n",
              "  </style>\n",
              "\n",
              "    <script>\n",
              "      const buttonEl =\n",
              "        document.querySelector('#df-ff840625-d67f-4e5f-a82b-8b8395f2a2d5 button.colab-df-convert');\n",
              "      buttonEl.style.display =\n",
              "        google.colab.kernel.accessAllowed ? 'block' : 'none';\n",
              "\n",
              "      async function convertToInteractive(key) {\n",
              "        const element = document.querySelector('#df-ff840625-d67f-4e5f-a82b-8b8395f2a2d5');\n",
              "        const dataTable =\n",
              "          await google.colab.kernel.invokeFunction('convertToInteractive',\n",
              "                                                    [key], {});\n",
              "        if (!dataTable) return;\n",
              "\n",
              "        const docLinkHtml = 'Like what you see? Visit the ' +\n",
              "          '<a target=\"_blank\" href=https://colab.research.google.com/notebooks/data_table.ipynb>data table notebook</a>'\n",
              "          + ' to learn more about interactive tables.';\n",
              "        element.innerHTML = '';\n",
              "        dataTable['output_type'] = 'display_data';\n",
              "        await google.colab.output.renderOutput(dataTable, element);\n",
              "        const docLink = document.createElement('div');\n",
              "        docLink.innerHTML = docLinkHtml;\n",
              "        element.appendChild(docLink);\n",
              "      }\n",
              "    </script>\n",
              "  </div>\n",
              "\n",
              "\n",
              "<div id=\"df-95697652-e85e-4a14-b026-2fc27641c395\">\n",
              "  <button class=\"colab-df-quickchart\" onclick=\"quickchart('df-95697652-e85e-4a14-b026-2fc27641c395')\"\n",
              "            title=\"Suggest charts.\"\n",
              "            style=\"display:none;\">\n",
              "\n",
              "<svg xmlns=\"http://www.w3.org/2000/svg\" height=\"24px\"viewBox=\"0 0 24 24\"\n",
              "     width=\"24px\">\n",
              "    <g>\n",
              "        <path d=\"M19 3H5c-1.1 0-2 .9-2 2v14c0 1.1.9 2 2 2h14c1.1 0 2-.9 2-2V5c0-1.1-.9-2-2-2zM9 17H7v-7h2v7zm4 0h-2V7h2v10zm4 0h-2v-4h2v4z\"/>\n",
              "    </g>\n",
              "</svg>\n",
              "  </button>\n",
              "\n",
              "<style>\n",
              "  .colab-df-quickchart {\n",
              "      --bg-color: #E8F0FE;\n",
              "      --fill-color: #1967D2;\n",
              "      --hover-bg-color: #E2EBFA;\n",
              "      --hover-fill-color: #174EA6;\n",
              "      --disabled-fill-color: #AAA;\n",
              "      --disabled-bg-color: #DDD;\n",
              "  }\n",
              "\n",
              "  [theme=dark] .colab-df-quickchart {\n",
              "      --bg-color: #3B4455;\n",
              "      --fill-color: #D2E3FC;\n",
              "      --hover-bg-color: #434B5C;\n",
              "      --hover-fill-color: #FFFFFF;\n",
              "      --disabled-bg-color: #3B4455;\n",
              "      --disabled-fill-color: #666;\n",
              "  }\n",
              "\n",
              "  .colab-df-quickchart {\n",
              "    background-color: var(--bg-color);\n",
              "    border: none;\n",
              "    border-radius: 50%;\n",
              "    cursor: pointer;\n",
              "    display: none;\n",
              "    fill: var(--fill-color);\n",
              "    height: 32px;\n",
              "    padding: 0;\n",
              "    width: 32px;\n",
              "  }\n",
              "\n",
              "  .colab-df-quickchart:hover {\n",
              "    background-color: var(--hover-bg-color);\n",
              "    box-shadow: 0 1px 2px rgba(60, 64, 67, 0.3), 0 1px 3px 1px rgba(60, 64, 67, 0.15);\n",
              "    fill: var(--button-hover-fill-color);\n",
              "  }\n",
              "\n",
              "  .colab-df-quickchart-complete:disabled,\n",
              "  .colab-df-quickchart-complete:disabled:hover {\n",
              "    background-color: var(--disabled-bg-color);\n",
              "    fill: var(--disabled-fill-color);\n",
              "    box-shadow: none;\n",
              "  }\n",
              "\n",
              "  .colab-df-spinner {\n",
              "    border: 2px solid var(--fill-color);\n",
              "    border-color: transparent;\n",
              "    border-bottom-color: var(--fill-color);\n",
              "    animation:\n",
              "      spin 1s steps(1) infinite;\n",
              "  }\n",
              "\n",
              "  @keyframes spin {\n",
              "    0% {\n",
              "      border-color: transparent;\n",
              "      border-bottom-color: var(--fill-color);\n",
              "      border-left-color: var(--fill-color);\n",
              "    }\n",
              "    20% {\n",
              "      border-color: transparent;\n",
              "      border-left-color: var(--fill-color);\n",
              "      border-top-color: var(--fill-color);\n",
              "    }\n",
              "    30% {\n",
              "      border-color: transparent;\n",
              "      border-left-color: var(--fill-color);\n",
              "      border-top-color: var(--fill-color);\n",
              "      border-right-color: var(--fill-color);\n",
              "    }\n",
              "    40% {\n",
              "      border-color: transparent;\n",
              "      border-right-color: var(--fill-color);\n",
              "      border-top-color: var(--fill-color);\n",
              "    }\n",
              "    60% {\n",
              "      border-color: transparent;\n",
              "      border-right-color: var(--fill-color);\n",
              "    }\n",
              "    80% {\n",
              "      border-color: transparent;\n",
              "      border-right-color: var(--fill-color);\n",
              "      border-bottom-color: var(--fill-color);\n",
              "    }\n",
              "    90% {\n",
              "      border-color: transparent;\n",
              "      border-bottom-color: var(--fill-color);\n",
              "    }\n",
              "  }\n",
              "</style>\n",
              "\n",
              "  <script>\n",
              "    async function quickchart(key) {\n",
              "      const quickchartButtonEl =\n",
              "        document.querySelector('#' + key + ' button');\n",
              "      quickchartButtonEl.disabled = true;  // To prevent multiple clicks.\n",
              "      quickchartButtonEl.classList.add('colab-df-spinner');\n",
              "      try {\n",
              "        const charts = await google.colab.kernel.invokeFunction(\n",
              "            'suggestCharts', [key], {});\n",
              "      } catch (error) {\n",
              "        console.error('Error during call to suggestCharts:', error);\n",
              "      }\n",
              "      quickchartButtonEl.classList.remove('colab-df-spinner');\n",
              "      quickchartButtonEl.classList.add('colab-df-quickchart-complete');\n",
              "    }\n",
              "    (() => {\n",
              "      let quickchartButtonEl =\n",
              "        document.querySelector('#df-95697652-e85e-4a14-b026-2fc27641c395 button');\n",
              "      quickchartButtonEl.style.display =\n",
              "        google.colab.kernel.accessAllowed ? 'block' : 'none';\n",
              "    })();\n",
              "  </script>\n",
              "</div>\n",
              "    </div>\n",
              "  </div>\n"
            ]
          },
          "metadata": {},
          "execution_count": 8
        }
      ]
    },
    {
      "cell_type": "code",
      "source": [
        "column_means = df.replace(0, np.nan).mean()\n",
        "\n",
        "# Fill 0 values with means\n",
        "df_filled = df.replace(0, column_means)\n",
        "\n",
        "# Display DataFrame with missing values imputed\n",
        "print(df_filled)"
      ],
      "metadata": {
        "colab": {
          "base_uri": "https://localhost:8080/"
        },
        "id": "TktuV3qME_k2",
        "outputId": "0cac1bb1-b45b-4f29-a59e-2aca6c27af25"
      },
      "execution_count": 9,
      "outputs": [
        {
          "output_type": "stream",
          "name": "stdout",
          "text": [
            "             0      1     2         3           4     5      6     7    8\n",
            "0     6.000000  148.0  72.0  35.00000  155.548223  33.6  0.627  50.0  1.0\n",
            "1     1.000000   85.0  66.0  29.00000  155.548223  26.6  0.351  31.0  1.0\n",
            "2     8.000000  183.0  64.0  29.15342  155.548223  23.3  0.672  32.0  1.0\n",
            "3     1.000000   89.0  66.0  23.00000   94.000000  28.1  0.167  21.0  1.0\n",
            "4     4.494673  137.0  40.0  35.00000  168.000000  43.1  2.288  33.0  1.0\n",
            "..         ...    ...   ...       ...         ...   ...    ...   ...  ...\n",
            "763  10.000000  101.0  76.0  48.00000  180.000000  32.9  0.171  63.0  1.0\n",
            "764   2.000000  122.0  70.0  27.00000  155.548223  36.8  0.340  27.0  1.0\n",
            "765   5.000000  121.0  72.0  23.00000  112.000000  26.2  0.245  30.0  1.0\n",
            "766   1.000000  126.0  60.0  29.15342  155.548223  30.1  0.349  47.0  1.0\n",
            "767   1.000000   93.0  70.0  31.00000  155.548223  30.4  0.315  23.0  1.0\n",
            "\n",
            "[768 rows x 9 columns]\n"
          ]
        }
      ]
    },
    {
      "cell_type": "markdown",
      "source": [
        "# END"
      ],
      "metadata": {
        "id": "R2GSIN0mALal"
      }
    },
    {
      "cell_type": "code",
      "source": [
        "dataset = df.values"
      ],
      "metadata": {
        "id": "Stmyg59DFOLM"
      },
      "execution_count": 10,
      "outputs": []
    },
    {
      "cell_type": "code",
      "source": [
        "X = dataset[:, :-1]\n",
        "y = dataset[:, -1]"
      ],
      "metadata": {
        "id": "Z5hdRSnvD-N1"
      },
      "execution_count": 11,
      "outputs": []
    },
    {
      "cell_type": "code",
      "execution_count": 12,
      "metadata": {
        "colab": {
          "base_uri": "https://localhost:8080/"
        },
        "id": "07-SoXIRhVYL",
        "outputId": "0ff480e6-29b8-40ee-dab7-88508592eb7e"
      },
      "outputs": [
        {
          "output_type": "stream",
          "name": "stdout",
          "text": [
            "(768, 8) (768,)\n"
          ]
        }
      ],
      "source": [
        "# check the data shape after we made a splitm where it is in form of (rows, cols)\n",
        "print(X.shape, y.shape)"
      ]
    },
    {
      "cell_type": "markdown",
      "metadata": {
        "id": "0Ys2_VQS-bPQ"
      },
      "source": [
        "# Quick Visualization\n",
        "- to see some distribution of the data"
      ]
    },
    {
      "cell_type": "code",
      "execution_count": 13,
      "metadata": {
        "colab": {
          "base_uri": "https://localhost:8080/",
          "height": 472
        },
        "id": "3y_ttYu_-Qfx",
        "outputId": "7218db15-6a17-4ce9-90ab-b4cdaf1fcaa7"
      },
      "outputs": [
        {
          "output_type": "display_data",
          "data": {
            "text/plain": [
              "<Figure size 640x480 with 1 Axes>"
            ],
            "image/png": "[encoded data removed]"
          },
          "metadata": {}
        }
      ],
      "source": [
        "# make a visualization\n",
        "# Plot the histogram\n",
        "plt.hist(y, bins=20, color='blue', edgecolor='black')  # You can adjust the number of bins\n",
        "plt.title('Histogram')\n",
        "plt.xlabel('X-axis label')\n",
        "plt.ylabel('Frequency')\n",
        "plt.grid(True)\n",
        "# Show the plot\n",
        "plt.show()"
      ]
    },
    {
      "cell_type": "code",
      "execution_count": 14,
      "metadata": {
        "colab": {
          "base_uri": "https://localhost:8080/"
        },
        "id": "HSAvunufhfCV",
        "outputId": "9b1d7531-bfcf-4b8d-a466-76d37fa26149"
      },
      "outputs": [
        {
          "output_type": "stream",
          "name": "stdout",
          "text": [
            "here is a feature shape: (768, 8)\n",
            "[  0.    167.      0.      0.      0.     32.3     0.839  30.   ]\n",
            "here is a label shape: (768,)\n",
            "1.0\n"
          ]
        }
      ],
      "source": [
        "# show that the dataset has 768 records of datqa and 8 features exluding the label itself\n",
        "index = 300\n",
        "print('here is a feature shape:', X.shape)\n",
        "print(X[index])\n",
        "print('here is a label shape:',y.shape)\n",
        "print(y[index])"
      ]
    },
    {
      "cell_type": "markdown",
      "metadata": {
        "id": "iYh1SJ-ihi6Q"
      },
      "source": [
        "## TODO 2: Training and Testing\n",
        "\n",
        "**Score: 1%**\n",
        "\n",
        "**Instruction:**\n",
        "\n",
        "Fill out `None` to split dataset into 80% and 20% for training and testing datasets, respectively.\n",
        "\n"
      ]
    },
    {
      "cell_type": "code",
      "execution_count": 15,
      "metadata": {
        "colab": {
          "base_uri": "https://localhost:8080/"
        },
        "id": "HeEitxh9ctLJ",
        "outputId": "74b9d465-ca88-4afd-b170-d69251a08db5"
      },
      "outputs": [
        {
          "output_type": "stream",
          "name": "stdout",
          "text": [
            "Total records in training batch: 614 that is 0.7994791666666666 %\n",
            "X_train shape: (614, 8)\n",
            "y_train shape: (614,)\n",
            "X_test shape: (154, 8)\n",
            "y_test shape: (154,)\n"
          ]
        }
      ],
      "source": [
        "train = 0.8 # since we will make a 80% split\n",
        "train_b = int(np.rint(X.shape[0] * train))\n",
        "print('Total records in training batch:', train_b, 'that is', (train_b/dataset.shape[0]),'%')\n",
        "\n",
        "X_train = X[0:train_b, :]\n",
        "y_train = y[0:train_b]\n",
        "X_test  = X[train_b:, :]\n",
        "y_test  = y[train_b:]\n",
        "\n",
        "# check for its shape after make a train, test, split\n",
        "print('X_train shape:',X_train.shape)\n",
        "print('y_train shape:',y_train.shape)\n",
        "print('X_test shape:',X_test.shape)\n",
        "print('y_test shape:',y_test.shape)"
      ]
    },
    {
      "cell_type": "code",
      "execution_count": 16,
      "metadata": {
        "colab": {
          "base_uri": "https://localhost:8080/"
        },
        "id": "LAN6svWMohvC",
        "outputId": "2c8ea733-9eb4-4d77-adc2-782a8b81695f"
      },
      "outputs": [
        {
          "output_type": "stream",
          "name": "stdout",
          "text": [
            "[  0.    167.      0.      0.      0.     32.3     0.839  30.   ]\n",
            "1.0\n"
          ]
        }
      ],
      "source": [
        "# check that what we split is correct\n",
        "index = 300\n",
        "print(X_train[index])\n",
        "print(y_train[index])"
      ]
    },
    {
      "cell_type": "markdown",
      "metadata": {
        "id": "5SmrcfFw7dNg"
      },
      "source": [
        "# Construct a new model ✅"
      ]
    },
    {
      "cell_type": "code",
      "execution_count": 17,
      "metadata": {
        "id": "uiOOPc2p7c82"
      },
      "outputs": [],
      "source": [
        "# construct a custom dataset to pass it through dataloader\n",
        "class pidDataset(Dataset):\n",
        "  def __init__(self,\n",
        "               data: np.ndarray,\n",
        "               label: np.ndarray,\n",
        "               required_torch: bool=True):\n",
        "\n",
        "    self.data = data\n",
        "    self.label = label\n",
        "    self.required_torch = required_torch\n",
        "\n",
        "  def __len__(self) -> int:\n",
        "    return len(self.data)\n",
        "\n",
        "  def __getitem__(self, index: int) -> Tuple:\n",
        "    # index the data to be returned\n",
        "    feature = np.array(self.data[index], dtype=np.float64)\n",
        "    label = np.array(self.label[index], dtype=np.float64)\n",
        "\n",
        "    if (self.required_torch):\n",
        "      feature = torch.from_numpy(feature)\n",
        "      label = torch.from_numpy(label)\n",
        "\n",
        "    return feature, label\n"
      ]
    },
    {
      "cell_type": "code",
      "execution_count": 18,
      "metadata": {
        "id": "g2mKb81V-K38"
      },
      "outputs": [],
      "source": [
        "# Create an instance of custom PID dataset\n",
        "train_dataset = pidDataset(X_train, y_train)\n",
        "test_dataset = pidDataset(X_test, y_test)\n",
        "\n",
        "# Create a DataLoader (default will be in format of torch)\n",
        "batch_size = 10\n",
        "train_dataloader = DataLoader(train_dataset, batch_size=batch_size, shuffle=True)\n",
        "test_dataloader = DataLoader(test_dataset, batch_size=batch_size)"
      ]
    },
    {
      "cell_type": "code",
      "execution_count": 19,
      "metadata": {
        "colab": {
          "base_uri": "https://localhost:8080/"
        },
        "id": "y0ZYtG45_kxz",
        "outputId": "50e728a1-20e0-4ae3-b179-49d40a85c6d9"
      },
      "outputs": [
        {
          "output_type": "execute_result",
          "data": {
            "text/plain": [
              "[tensor([[  5.0000,  99.0000,  74.0000,  27.0000,   0.0000,  29.0000,   0.2030,\n",
              "           32.0000],\n",
              "         [  0.0000, 104.0000,  64.0000,  37.0000,  64.0000,  33.6000,   0.5100,\n",
              "           22.0000],\n",
              "         [  4.0000,  76.0000,  62.0000,   0.0000,   0.0000,  34.0000,   0.3910,\n",
              "           25.0000],\n",
              "         [  0.0000, 129.0000, 110.0000,  46.0000, 130.0000,  67.1000,   0.3190,\n",
              "           26.0000],\n",
              "         [  7.0000, 100.0000,   0.0000,   0.0000,   0.0000,  30.0000,   0.4840,\n",
              "           32.0000],\n",
              "         [  1.0000,  89.0000,  24.0000,  19.0000,  25.0000,  27.8000,   0.5590,\n",
              "           21.0000],\n",
              "         [  0.0000, 108.0000,  68.0000,  20.0000,   0.0000,  27.3000,   0.7870,\n",
              "           32.0000],\n",
              "         [ 13.0000, 145.0000,  82.0000,  19.0000, 110.0000,  22.2000,   0.2450,\n",
              "           57.0000],\n",
              "         [ 10.0000, 133.0000,  68.0000,   0.0000,   0.0000,  27.0000,   0.2450,\n",
              "           36.0000],\n",
              "         [  6.0000, 109.0000,  60.0000,  27.0000,   0.0000,  25.0000,   0.2060,\n",
              "           27.0000]], dtype=torch.float64),\n",
              " tensor([0., 1., 0., 1., 1., 0., 0., 0., 0., 0.], dtype=torch.float64)]"
            ]
          },
          "metadata": {},
          "execution_count": 19
        }
      ],
      "source": [
        "# test for output from the dataloader\n",
        "next(iter(train_dataloader))"
      ]
    },
    {
      "cell_type": "markdown",
      "metadata": {
        "id": "LISbo1nEcM_d"
      },
      "source": [
        "# Custom `FeaturizedConvolution` Network 🔥🏆\n",
        "\n",
        "\n",
        "---\n",
        "\n",
        "\n",
        "***Remarks:*** As of survey with some classmates until September 10th, This is the `smallest` and `fastest` model existing in the Deep Learning class right now ! 🥇\n",
        "\n",
        "\n",
        "---\n",
        "\n",
        "\n",
        "\n",
        "1.   smaller than `AutoML` ensemble model params that stacked many models in many layers (e.g. WeightEnsembleL2/L3 from AutoGluon)\n",
        "\n",
        "2.   obtain `81.87% accuracy`✅ by containing just only `176 parameters`! which is smaller than professor model (neural network with 209params achieving 76% accuracy)\n",
        "\n",
        "![custommodel_size_new.PNG](data:image/png;base64,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)\n",
        "\n",
        "3. faster training time `(<30 seconds even when performing cross validation)` even it utilize CPU as an accelerator ⚡\n",
        "\n",
        "4. no need for ensembling of many trees that required many increased parameters 🌳\n",
        "\n",
        "5. achieves `competitive performance` with gradient-boosting algorithm (e.g. catboost@acc79, [best-200iterations]catboost@acc82) and reveals an interesting performance compared to another deep learning model according to its smaller model size (e.g. professorModel@acc76)  ⛹\n",
        "\n",
        "---\n",
        "- Credits: This Architecture was designed by `Mr. Pavaris Ruangchutiphophan` inspired by an idea of 1-dimensional convolution on signal data\n",
        "---"
      ]
    },
    {
      "cell_type": "markdown",
      "metadata": {
        "id": "LAF6JKuwW5rO"
      },
      "source": [
        "![featurizedconv.jpg](data:image/jpeg;base64,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)"
      ]
    },
    {
      "cell_type": "code",
      "execution_count": 20,
      "metadata": {
        "id": "cgtM_7i4DCek"
      },
      "outputs": [],
      "source": [
        "# write a training loop, and, optimize the model\n",
        "# test for enhancement\n",
        "class cnn1Dmodel(nn.Module):\n",
        "  # write a initialization of the model\n",
        "  def __init__(self,\n",
        "               input_features: int,\n",
        "               out_features: int,\n",
        "               num_labels: int,\n",
        "               k_size: int = 2,\n",
        "               stride: int = 2\n",
        "               ):\n",
        "\n",
        "    super(cnn1Dmodel, self).__init__()\n",
        "    # for featurized the input into much more interesting way\n",
        "    self.conv1 = nn.Conv1d(in_channels=input_features,\n",
        "                           out_channels=out_features,\n",
        "                           kernel_size=k_size,\n",
        "                           stride=stride,\n",
        "                           )\n",
        "    # this is a normal nn as we know\n",
        "    self.dense1 = nn.Linear(in_features=4,\n",
        "                            out_features=12,\n",
        "                            bias=True)\n",
        "\n",
        "    self.dense2 = nn.Linear(in_features=12,\n",
        "                            out_features=8,\n",
        "                            bias=True)\n",
        "\n",
        "    # define ReLU for output normalization\n",
        "    self.relu = nn.ReLU()\n",
        "    self.output_layer = nn.Linear(in_features=8,\n",
        "                                  out_features=1,\n",
        "                                  bias=True)\n",
        "\n",
        "  # this part is just for testing convolution\n",
        "  def test_convolve(self, x: torch.Tensor)->torch.Tensor:\n",
        "    return self.conv1(x)\n",
        "\n",
        "  def forward(self, x: torch.Tensor)->torch.Tensor:\n",
        "    # do convolution\n",
        "    convolve = self.conv1(x)\n",
        "    x1 = self.relu(self.dense1(convolve))\n",
        "    x2 = self.relu(self.dense2(x1))\n",
        "    # here is the raw logits output, we will not convert it here\n",
        "    logits = self.output_layer(x2)\n",
        "\n",
        "    return logits\n"
      ]
    },
    {
      "cell_type": "code",
      "execution_count": 21,
      "metadata": {
        "colab": {
          "base_uri": "https://localhost:8080/"
        },
        "id": "sxt-3--AFoxU",
        "outputId": "f07035b4-caf8-4c09-a16f-6d34bc4a5af5"
      },
      "outputs": [
        {
          "output_type": "execute_result",
          "data": {
            "text/plain": [
              "cnn1Dmodel(\n",
              "  (conv1): Conv1d(1, 1, kernel_size=(2,), stride=(2,))\n",
              "  (dense1): Linear(in_features=4, out_features=12, bias=True)\n",
              "  (dense2): Linear(in_features=12, out_features=8, bias=True)\n",
              "  (relu): ReLU()\n",
              "  (output_layer): Linear(in_features=8, out_features=1, bias=True)\n",
              ")"
            ]
          },
          "metadata": {},
          "execution_count": 21
        }
      ],
      "source": [
        "# define a model\n",
        "model1 = cnn1Dmodel(input_features=1,\n",
        "               out_features=1,\n",
        "               num_labels=2,\n",
        "               k_size= 2,\n",
        "               stride= 2)\n",
        "model1"
      ]
    },
    {
      "cell_type": "code",
      "execution_count": 22,
      "metadata": {
        "colab": {
          "base_uri": "https://localhost:8080/"
        },
        "id": "I7UUvlPPGd0w",
        "outputId": "fc46160b-7f09-4b68-986d-481e2d96c830"
      },
      "outputs": [
        {
          "output_type": "execute_result",
          "data": {
            "text/plain": [
              "torch.Size([10, 1, 8])"
            ]
          },
          "metadata": {},
          "execution_count": 22
        }
      ],
      "source": [
        "next(iter(train_dataloader))[0].unsqueeze(1).shape"
      ]
    },
    {
      "cell_type": "code",
      "execution_count": 23,
      "metadata": {
        "colab": {
          "base_uri": "https://localhost:8080/"
        },
        "id": "rOn2w0OVQCIA",
        "outputId": "08fded2d-b51f-47d7-cd55-bfea30f5f7d1"
      },
      "outputs": [
        {
          "output_type": "stream",
          "name": "stdout",
          "text": [
            "torch.Size([10, 1, 8])\n",
            "torch.Size([10, 1, 4])\n"
          ]
        },
        {
          "output_type": "execute_result",
          "data": {
            "text/plain": [
              "tensor([[[ 0.3325,  0.4854,  0.0592,  0.4394]],\n",
              "\n",
              "        [[ 0.3840,  0.3445,  0.1788,  0.2877]],\n",
              "\n",
              "        [[ 0.3237,  0.1669,  0.3621,  0.0381]],\n",
              "\n",
              "        [[ 0.4410,  0.3919,  0.4454,  0.6359]],\n",
              "\n",
              "        [[ 0.4489,  0.0873,  0.2432,  0.5014]],\n",
              "\n",
              "        [[ 0.3028,  0.4838,  0.3101,  0.4391]],\n",
              "\n",
              "        [[ 0.3487,  0.2940,  0.2444,  0.0327]],\n",
              "\n",
              "        [[ 0.3358,  0.2796,  0.2505,  0.2914]],\n",
              "\n",
              "        [[ 0.3993,  0.4715,  0.6084,  0.2825]],\n",
              "\n",
              "        [[-0.0085,  0.3776,  0.2301,  0.7692]]],\n",
              "       grad_fn=<ConvolutionBackward0>)"
            ]
          },
          "metadata": {},
          "execution_count": 23
        }
      ],
      "source": [
        "sequence_length = 8  # Adjust the sequence length as needed\n",
        "batch_size = 10\n",
        "num_features = 1\n",
        "\n",
        "# Generate random input data with the specified shape\n",
        "input_data = torch.randn(batch_size, num_features, sequence_length)\n",
        "print(input_data.shape)\n",
        "print(model1.test_convolve(input_data).shape)\n",
        "model1.test_convolve(input_data)"
      ]
    },
    {
      "cell_type": "markdown",
      "metadata": {
        "id": "5C8ClBxjKwGa"
      },
      "source": [
        "# Construct a Training loop\n",
        "- keytakaways: `AdamW` converge `2x faster` than `Lion` optimizer in this case."
      ]
    },
    {
      "cell_type": "code",
      "execution_count": 24,
      "metadata": {
        "id": "Xz04O7_TNLqS"
      },
      "outputs": [],
      "source": [
        "# define loss function and optimizer (Lion)\n",
        "# define a model\n",
        "model1 = cnn1Dmodel(input_features=1, out_features=1,num_labels=2,k_size= 2,stride= 2)\n",
        "# optimizer = Lion(model1.parameters(), lr=1e-2, weight_decay=1e-2)\n",
        "optimizer = torch.optim.AdamW(model1.parameters(), lr=1e-2)\n",
        "metric = BinaryAccuracy()\n",
        "loss_fn = nn.BCELoss()"
      ]
    },
    {
      "cell_type": "code",
      "execution_count": 25,
      "metadata": {
        "colab": {
          "base_uri": "https://localhost:8080/",
          "height": 492,
          "referenced_widgets": [
            "c0914e2e23124611aed2b677ae4f2e69",
            "2c9848796a2a4000926db1703af98968",
            "c4480a002c864112b3de43eaf6f6a0d6",
            "860eac8456284f9bbd70c9151568bb04",
            "9ac701d303aa4adaa0aa011b6144172c",
            "c22f5eb192324adcaeaa15be04608ba9",
            "e2a3094f469348d9ac8140ac65e442e5",
            "cf1406933dc947cf87af173b35ed7b85",
            "4b515d10062f4559bd3805ce424f0ada",
            "66bb77f011114cc681c99f9ab65e757f",
            "634fe9df647f4d6b8d552fed89e88b5b"
          ]
        },
        "id": "_6w9fVloKyzL",
        "outputId": "6ae142f5-11eb-4a60-978f-968bb5335554"
      },
      "outputs": [
        {
          "output_type": "display_data",
          "data": {
            "text/plain": [
              "training the model ...:   0%|          | 0/300 [00:00<?, ?it/s]"
            ],
            "application/vnd.jupyter.widget-view+json": {
              "version_major": 2,
              "version_minor": 0,
              "model_id": "c0914e2e23124611aed2b677ae4f2e69"
            }
          },
          "metadata": {}
        },
        {
          "output_type": "stream",
          "name": "stdout",
          "text": [
            "Best Model @ epoch : 0\n",
            "Train loss: 0.7324 | val loss : 0.6443 | train acc: 0.6258 | val acc: 0.6469\n",
            "Best Model @ epoch : 2\n",
            "Train loss: 0.6202 | val loss : 0.6376 | train acc: 0.6556 | val acc: 0.6531\n",
            "Best Model @ epoch : 4\n",
            "Train loss: 0.5954 | val loss : 0.5965 | train acc: 0.6992 | val acc: 0.6781\n",
            "Best Model @ epoch : 7\n",
            "Train loss: 0.5928 | val loss : 0.5891 | train acc: 0.6879 | val acc: 0.6969\n",
            "Best Model @ epoch : 9\n",
            "Train loss: 0.5701 | val loss : 0.5830 | train acc: 0.7234 | val acc: 0.7219\n",
            "Best Model @ epoch : 13\n",
            "Train loss: 0.5627 | val loss : 0.5757 | train acc: 0.7097 | val acc: 0.7406\n",
            "Best Model @ epoch : 14\n",
            "Train loss: 0.5570 | val loss : 0.5625 | train acc: 0.7202 | val acc: 0.7469\n",
            "Best Model @ epoch : 29\n",
            "Train loss: 0.5365 | val loss : 0.5248 | train acc: 0.7226 | val acc: 0.7656\n",
            "Best Model @ epoch : 50\n",
            "Train loss: 0.5117 | val loss : 0.5243 | train acc: 0.7476 | val acc: 0.7875\n",
            "Best Model @ epoch : 66\n",
            "Train loss: 0.4873 | val loss : 0.5206 | train acc: 0.7694 | val acc: 0.7937\n",
            "Best Model @ epoch : 81\n",
            "Train loss: 0.4703 | val loss : 0.5142 | train acc: 0.7766 | val acc: 0.7938\n",
            "Best Model @ epoch : 92\n",
            "Train loss: 0.4898 | val loss : 0.4972 | train acc: 0.7516 | val acc: 0.8187\n"
          ]
        }
      ],
      "source": [
        "epochs = 300\n",
        "\n",
        "torch.manual_seed(69)\n",
        " # convert all the model parameters into double type.\n",
        " # This should give a compatible model given your input data is double\n",
        "model1 = model1.double()\n",
        "epoch_counts = []\n",
        "train_loss_values = []\n",
        "val_loss_values = []\n",
        "\n",
        "best_val_acc, best_val_loss = 0, 0\n",
        "for epoch in tqdm(range(epochs), desc='training the model ...'):\n",
        "  ## Training\n",
        "  train_acc, train_loss = 0, 0\n",
        "  # Add a loop to loop trhough the training batches\n",
        "  for batch, (features, labels) in enumerate(train_dataloader):\n",
        "    model1.train()\n",
        "    # forward pass\n",
        "    # format label to make it compatible with prediction\n",
        "    labels = labels.unsqueeze(-1).unsqueeze(-1)\n",
        "    raw_logits = model1(features.unsqueeze(1))\n",
        "    #print(raw_logits)\n",
        "    probs = torch.sigmoid(raw_logits)\n",
        "    preds = (probs > 0.5).float()\n",
        "    # since bceLoss take probability as an input (not logits)\n",
        "    loss = loss_fn(probs, labels)\n",
        "    acc = metric(preds, labels)\n",
        "    # save stats\n",
        "    train_loss += loss\n",
        "    train_acc += acc\n",
        "\n",
        "    # optimizer zero grad\n",
        "    optimizer.zero_grad()\n",
        "    # compute backward loss (backpropagation)\n",
        "    loss.backward()\n",
        "    # Gradient Descent (optimizer step)\n",
        "    optimizer.step()\n",
        "\n",
        "  train_loss /= len(train_dataloader)\n",
        "  train_acc /= len(train_dataloader)\n",
        "\n",
        "  # evaluation loop\n",
        "  val_acc, val_loss = 0, 0\n",
        "  for batch, (val_features, val_labels) in enumerate(test_dataloader):\n",
        "    with torch.inference_mode():\n",
        "      # make it compare to prediction\n",
        "      val_labels = val_labels.unsqueeze(-1).unsqueeze(-1)\n",
        "      val_logits = model1(val_features.unsqueeze(1))\n",
        "      val_probs = torch.sigmoid(val_logits)\n",
        "      val_preds = (val_probs > 0.5).float()\n",
        "      loss = loss_fn(val_probs, val_labels)\n",
        "      acc = metric(val_preds, val_labels)\n",
        "      # update stats\n",
        "      val_loss += loss\n",
        "      val_acc += acc\n",
        "\n",
        "  val_loss = val_loss / len(test_dataloader)\n",
        "  val_acc  = val_acc / len(test_dataloader)\n",
        "\n",
        "  if (val_acc > best_val_acc):\n",
        "    print(f\"Best Model @ epoch : {epoch}\")\n",
        "    print(f\"Train loss: {train_loss:.4f} | val loss : {val_loss:.4f} | train acc: {train_acc:.4f} | val acc: {val_acc:.4f}\")\n",
        "    best_val_acc = val_acc\n",
        "    torch.save(model1.state_dict(), f'/content/custom_model/best_model_1.pth')\n"
      ]
    },
    {
      "cell_type": "code",
      "execution_count": 26,
      "metadata": {
        "colab": {
          "base_uri": "https://localhost:8080/"
        },
        "id": "-c-DDKK6zZtc",
        "outputId": "3a9f4649-190a-4193-a764-b1fd4a4a77a9"
      },
      "outputs": [
        {
          "output_type": "stream",
          "name": "stdout",
          "text": [
            "----------------------------------------------------------------\n",
            "        Layer (type)               Output Shape         Param #\n",
            "================================================================\n",
            "            Conv1d-1                 [-1, 1, 4]               3\n",
            "            Linear-2                [-1, 1, 12]              60\n",
            "              ReLU-3                [-1, 1, 12]               0\n",
            "            Linear-4                 [-1, 1, 8]             104\n",
            "              ReLU-5                 [-1, 1, 8]               0\n",
            "            Linear-6                 [-1, 1, 1]               9\n",
            "================================================================\n",
            "Total params: 176\n",
            "Trainable params: 176\n",
            "Non-trainable params: 0\n",
            "----------------------------------------------------------------\n",
            "Input size (MB): 0.00\n",
            "Forward/backward pass size (MB): 0.00\n",
            "Params size (MB): 0.00\n",
            "Estimated Total Size (MB): 0.00\n",
            "----------------------------------------------------------------\n"
          ]
        }
      ],
      "source": [
        "# Print the model summary, including the number of parameters and memory usage\n",
        "summary(model1.to(torch.float), (1, 8))"
      ]
    },
    {
      "cell_type": "markdown",
      "metadata": {
        "id": "hFCHLxngeLzS"
      },
      "source": [
        "# Psuedo Labelling Part"
      ]
    },
    {
      "cell_type": "code",
      "execution_count": 27,
      "metadata": {
        "colab": {
          "base_uri": "https://localhost:8080/"
        },
        "id": "SNaeak-4eOBm",
        "outputId": "6ff899b5-97c1-440d-ef9f-41e29447511e"
      },
      "outputs": [
        {
          "output_type": "execute_result",
          "data": {
            "text/plain": [
              "cnn1Dmodel(\n",
              "  (conv1): Conv1d(1, 1, kernel_size=(2,), stride=(2,))\n",
              "  (dense1): Linear(in_features=4, out_features=12, bias=True)\n",
              "  (dense2): Linear(in_features=12, out_features=8, bias=True)\n",
              "  (relu): ReLU()\n",
              "  (output_layer): Linear(in_features=8, out_features=1, bias=True)\n",
              ")"
            ]
          },
          "metadata": {},
          "execution_count": 27
        }
      ],
      "source": [
        "# Load the saved state dictionary of the best model (acc: 0.81) into the model\n",
        "psuedo_model = cnn1Dmodel(input_features=1, out_features=1,num_labels=2,k_size= 2,stride= 2)\n",
        "psuedo_model.load_state_dict(torch.load('/content/custom_model/best_model_1.pth'))\n",
        "psuedo_model"
      ]
    },
    {
      "cell_type": "code",
      "execution_count": 28,
      "metadata": {
        "id": "35prvs1hennb"
      },
      "outputs": [],
      "source": [
        "# create a dataloader for specific pseudo labelling part\n",
        "pseudo_dataloader = DataLoader(test_dataset, batch_size=1) # consider each of them instead of batch"
      ]
    },
    {
      "cell_type": "code",
      "execution_count": 29,
      "metadata": {
        "colab": {
          "base_uri": "https://localhost:8080/"
        },
        "id": "tJ30J43Ieccm",
        "outputId": "212de67d-f547-49f4-ee1f-a62c3a8befaf"
      },
      "outputs": [
        {
          "output_type": "stream",
          "name": "stdout",
          "text": [
            "[3, 7, 8, 9, 10, 11, 15, 17, 19, 20, 23, 24, 25, 26, 29, 30, 35, 36, 37, 40, 41, 42, 45, 51, 57, 58, 59, 60, 61, 63, 65, 66, 68, 70, 78, 80, 83, 88, 90, 91, 92, 93, 94, 95, 96, 99, 103, 104, 105, 106, 107, 115, 119, 120, 121, 122, 123, 124, 127, 128, 133, 138, 144, 146, 147, 148, 153]\n",
            "67\n"
          ]
        }
      ],
      "source": [
        "# make a psuedo label\n",
        "conf = [] # to keep the pseudo labels\n",
        "\n",
        "# convert the model into double format\n",
        "psuedo_model = psuedo_model.double()\n",
        "for index, (feature, label) in enumerate(pseudo_dataloader):\n",
        "  with torch.inference_mode():\n",
        "    label = label.unsqueeze(-1).unsqueeze(-1)\n",
        "    logit = psuedo_model(feature.unsqueeze(1))\n",
        "    prob = torch.sigmoid(logit)\n",
        "    # get condition part\n",
        "    if (prob > 0.85):\n",
        "      conf.append(index)\n",
        "    elif (prob <= 0.3):\n",
        "      conf.append(index)\n",
        "\n",
        "print(conf)\n",
        "print(len(conf))"
      ]
    },
    {
      "cell_type": "code",
      "execution_count": 30,
      "metadata": {
        "id": "c3qYBZ2Lj393"
      },
      "outputs": [],
      "source": [
        "# indexing psuedo label\n",
        "psuedo_feature = []\n",
        "psuedo_label = []\n",
        "for id in conf:\n",
        "  psuedo_feature.append(X_test[int(id)])\n",
        "  psuedo_label.append(y_test[int(id)])"
      ]
    },
    {
      "cell_type": "code",
      "execution_count": 31,
      "metadata": {
        "id": "X5ihxcIAlhAf"
      },
      "outputs": [],
      "source": [
        "# Concatenate the arrays vertically\n",
        "train_features = np.vstack((X_train, psuedo_feature))\n",
        "train_labels = np.hstack((y_train, psuedo_label))"
      ]
    },
    {
      "cell_type": "code",
      "execution_count": 32,
      "metadata": {
        "colab": {
          "base_uri": "https://localhost:8080/"
        },
        "id": "RPCzdKHSmnN0",
        "outputId": "8c5fa8b5-9dcc-4cf5-8973-29ae2ef65b3f"
      },
      "outputs": [
        {
          "output_type": "stream",
          "name": "stdout",
          "text": [
            "Before Psuedo Labelling\n",
            "(614, 8)\n",
            "(614,)\n",
            "After Psuedo Labelling\n",
            "(681, 8)\n",
            "(681,)\n"
          ]
        }
      ],
      "source": [
        "print(\"Before Psuedo Labelling\")\n",
        "print(X_train.shape)\n",
        "print(y_train.shape)\n",
        "print(\"After Psuedo Labelling\")\n",
        "print(train_features.shape)\n",
        "print(train_labels.shape)"
      ]
    },
    {
      "cell_type": "markdown",
      "metadata": {
        "id": "D6Rn1RAcmy8K"
      },
      "source": [
        "# Train the model with `psuedo label`"
      ]
    },
    {
      "cell_type": "code",
      "execution_count": 33,
      "metadata": {
        "id": "gINrSE5RmyYT"
      },
      "outputs": [],
      "source": [
        "# Create an instance of custom PID dataset\n",
        "p_train_dataset = pidDataset(train_features, train_labels)\n",
        "\n",
        "# Create a DataLoader (default will be in format of torch)\n",
        "batch_size = 10\n",
        "p_train_dataloader = DataLoader(p_train_dataset, batch_size=batch_size, shuffle=True)"
      ]
    },
    {
      "cell_type": "code",
      "execution_count": 34,
      "metadata": {
        "colab": {
          "base_uri": "https://localhost:8080/"
        },
        "id": "fv_sVtjepcyt",
        "outputId": "2d9fd1f5-b1ca-44d6-f46b-38071ca6cb1e"
      },
      "outputs": [
        {
          "output_type": "execute_result",
          "data": {
            "text/plain": [
              "69"
            ]
          },
          "metadata": {},
          "execution_count": 34
        }
      ],
      "source": [
        "len(p_train_dataloader)"
      ]
    },
    {
      "cell_type": "code",
      "execution_count": 35,
      "metadata": {
        "id": "-nzqDzBxnHCD"
      },
      "outputs": [],
      "source": [
        "# define a model\n",
        "new_model = cnn1Dmodel(input_features=1, out_features=1,num_labels=2,k_size= 2,stride= 2)\n",
        "optimizer = torch.optim.AdamW(new_model.parameters(), lr=1e-2)"
      ]
    },
    {
      "cell_type": "code",
      "execution_count": 36,
      "metadata": {
        "colab": {
          "base_uri": "https://localhost:8080/",
          "height": 492,
          "referenced_widgets": [
            "51f043f0971e4122ab1d67781836f0a0",
            "0d68a37d53354dd7a3160b20f9c18174",
            "53e2959641f6498197f657bcc6164a3e",
            "ec10eba3b450459c9a57142f9a8c4503",
            "2002d7cf994149dc9300768621084f77",
            "4fb616d9ee914371a0f06c67a95eb5e1",
            "10d75714df1743a3bbd1b26f8389a4fe",
            "8327099e29dc413aac88ac317cf6d748",
            "e6a204557c23431cbcf4eabdae5a884e",
            "6a74505db714470ca12fac3ca886e354",
            "91bc124b78a349298ffc060fabd84b1f"
          ]
        },
        "id": "8IsvLS5anS3m",
        "outputId": "889e5b85-23a9-4d09-e39c-8e7dc37632da"
      },
      "outputs": [
        {
          "output_type": "display_data",
          "data": {
            "text/plain": [
              "training the model ...:   0%|          | 0/300 [00:00<?, ?it/s]"
            ],
            "application/vnd.jupyter.widget-view+json": {
              "version_major": 2,
              "version_minor": 0,
              "model_id": "51f043f0971e4122ab1d67781836f0a0"
            }
          },
          "metadata": {}
        },
        {
          "output_type": "stream",
          "name": "stdout",
          "text": [
            "Best Model @ epoch : 0\n",
            "Train loss: 0.7271 | val loss : 0.6939 | train acc: 0.6580 | val acc: 0.6469\n",
            "Best Model @ epoch : 4\n",
            "Train loss: 0.6152 | val loss : 0.6279 | train acc: 0.6783 | val acc: 0.6781\n",
            "Best Model @ epoch : 8\n",
            "Train loss: 0.5984 | val loss : 0.6189 | train acc: 0.6812 | val acc: 0.6781\n",
            "Best Model @ epoch : 19\n",
            "Train loss: 0.5660 | val loss : 0.5809 | train acc: 0.7029 | val acc: 0.7031\n",
            "Best Model @ epoch : 28\n",
            "Train loss: 0.5179 | val loss : 0.5744 | train acc: 0.7217 | val acc: 0.7031\n",
            "Best Model @ epoch : 29\n",
            "Train loss: 0.5204 | val loss : 0.5303 | train acc: 0.7261 | val acc: 0.7094\n",
            "Best Model @ epoch : 30\n",
            "Train loss: 0.5186 | val loss : 0.5307 | train acc: 0.7290 | val acc: 0.7781\n",
            "Best Model @ epoch : 51\n",
            "Train loss: 0.5075 | val loss : 0.4995 | train acc: 0.7522 | val acc: 0.7781\n",
            "Best Model @ epoch : 55\n",
            "Train loss: 0.4954 | val loss : 0.5117 | train acc: 0.7681 | val acc: 0.7844\n",
            "Best Model @ epoch : 60\n",
            "Train loss: 0.4598 | val loss : 0.4712 | train acc: 0.7754 | val acc: 0.7875\n",
            "Best Model @ epoch : 64\n",
            "Train loss: 0.4765 | val loss : 0.4618 | train acc: 0.7754 | val acc: 0.8187\n",
            "Best Model @ epoch : 110\n",
            "Train loss: 0.4856 | val loss : 0.4601 | train acc: 0.7667 | val acc: 0.8188\n"
          ]
        }
      ],
      "source": [
        "epochs = 300\n",
        "\n",
        "torch.manual_seed(69)\n",
        " # convert all the model parameters into double type.\n",
        " # This should give a compatible model given your input data is double\n",
        "new_model = new_model.double()\n",
        "\n",
        "epoch_counts = []\n",
        "train_loss_values = []\n",
        "val_loss_values = []\n",
        "\n",
        "best_val_acc, best_val_loss = 0, 0\n",
        "for epoch in tqdm(range(epochs), desc='training the model ...'):\n",
        "  ## Training\n",
        "  train_acc, train_loss = 0, 0\n",
        "  # Add a loop to loop trhough the training batches\n",
        "  for batch, (features, labels) in enumerate(p_train_dataloader):\n",
        "    new_model.train()\n",
        "    # forward pass\n",
        "    # format label to make it compatible with prediction\n",
        "    labels = labels.unsqueeze(-1).unsqueeze(-1)\n",
        "    raw_logits = new_model(features.unsqueeze(1))\n",
        "    #print(raw_logits)\n",
        "    probs = torch.sigmoid(raw_logits)\n",
        "    preds = (probs > 0.5).float()\n",
        "    # since bceLoss take probability as an input (not logits)\n",
        "    loss = loss_fn(probs, labels)\n",
        "    acc = metric(preds, labels)\n",
        "    # save stats\n",
        "    train_loss += loss\n",
        "    train_acc += acc\n",
        "\n",
        "    # optimizer zero grad\n",
        "    optimizer.zero_grad()\n",
        "    # compute backward loss (backpropagation)\n",
        "    loss.backward()\n",
        "    # Gradient Descent (optimizer step)\n",
        "    optimizer.step()\n",
        "\n",
        "  train_loss /= len(p_train_dataloader)\n",
        "  train_acc /= len(p_train_dataloader)\n",
        "\n",
        "  # evaluation loop\n",
        "  val_acc, val_loss = 0, 0\n",
        "  for batch, (val_features, val_labels) in enumerate(test_dataloader):\n",
        "    with torch.inference_mode():\n",
        "      # make it compare to prediction\n",
        "      val_labels = val_labels.unsqueeze(-1).unsqueeze(-1)\n",
        "      val_logits = new_model(val_features.unsqueeze(1))\n",
        "      val_probs = torch.sigmoid(val_logits)\n",
        "      val_preds = (val_probs > 0.5).float()\n",
        "      loss = loss_fn(val_probs, val_labels)\n",
        "      acc = metric(val_preds, val_labels)\n",
        "      # update stats\n",
        "      val_loss += loss\n",
        "      val_acc += acc\n",
        "\n",
        "  val_loss = val_loss / len(test_dataloader)\n",
        "  val_acc  = val_acc / len(test_dataloader)\n",
        "\n",
        "  if (val_acc > best_val_acc):\n",
        "    print(f\"Best Model @ epoch : {epoch}\")\n",
        "    print(f\"Train loss: {train_loss:.4f} | val loss : {val_loss:.4f} | train acc: {train_acc:.4f} | val acc: {val_acc:.4f}\")\n",
        "    best_val_acc = val_acc\n",
        "    torch.save(new_model.state_dict(), f'/content/custom_model/best_model_4.pth')\n",
        "\n"
      ]
    },
    {
      "cell_type": "markdown",
      "metadata": {
        "id": "vBt9r8SC_KJ_"
      },
      "source": [
        "#Ensemble Method of `FeaturizedCNN` ⚡\n",
        "- each fold will be divided by `StratifiedKFold` where `K=5`\n",
        "\n"
      ]
    },
    {
      "cell_type": "markdown",
      "metadata": {
        "id": "JgUCbC2fQzgG"
      },
      "source": [
        "![stratifiedKfold.png](data:image/png;base64,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)"
      ]
    },
    {
      "cell_type": "code",
      "execution_count": 37,
      "metadata": {
        "colab": {
          "base_uri": "https://localhost:8080/"
        },
        "id": "CmCP7weg_a61",
        "outputId": "fdb15aed-fc44-4c2b-b232-eda79af0dd41"
      },
      "outputs": [
        {
          "output_type": "execute_result",
          "data": {
            "text/plain": [
              "((768, 8), (768,))"
            ]
          },
          "metadata": {},
          "execution_count": 37
        }
      ],
      "source": [
        "# get the shape of initial model\n",
        "X.shape, y.shape"
      ]
    },
    {
      "cell_type": "code",
      "execution_count": 38,
      "metadata": {
        "colab": {
          "base_uri": "https://localhost:8080/"
        },
        "id": "ebutgS0W_Kpz",
        "outputId": "d36f055c-89ec-44d5-d565-08fa54a10d38"
      },
      "outputs": [
        {
          "output_type": "execute_result",
          "data": {
            "text/plain": [
              "5"
            ]
          },
          "metadata": {},
          "execution_count": 38
        }
      ],
      "source": [
        "# init for stratified K-fold\n",
        "skf = StratifiedKFold(n_splits=5)\n",
        "skf.get_n_splits(X, y)"
      ]
    },
    {
      "cell_type": "code",
      "execution_count": 39,
      "metadata": {
        "colab": {
          "base_uri": "https://localhost:8080/",
          "height": 454,
          "referenced_widgets": [
            "88af6a41d8234475b50ce016c1dca6f1",
            "9a95d60ead084465b5eb236f3dd976b4",
            "c5fb1cab9acd422d9f308551d029af8f",
            "8e83b3a793bf48b8805ed4f2cac71e23",
            "d5557e7998c84e9183d4db92f06f7f41",
            "898e5aea6595421bb7b9633f3ba769b9",
            "2353755d14d14662b237495ff3c42e67",
            "6de5a5417c5145ada6177a79eee08fb7",
            "be327a78f3a2424c90328547851aab36",
            "1c03a53596e44429a155578f89b8983c",
            "13990d1de8a2435c8071636d40438de2",
            "e333637ec7ca4df0b3c722b2e6c1a34f",
            "7c09329c16904d7d804dfa8ab3206fb8",
            "cd1d905006584ca8bbbac94896a309ff",
            "d669ef8cf80e48afa66377f9e621bda5",
            "36f4d45eeab1445ca8a868e881256d0c",
            "e1660b47cb244976b171831502a6136f",
            "55e95919170e4fd3af9da25701e54e0a",
            "d2b86a4fc501420d950c7f47b867707d",
            "9bf7886672b6431ea09566d775ebb41f",
            "d2b694242ab940b1a4f13461c5e3ec88",
            "e2599f9098ca4a58b9da47d685efe001",
            "3babab10e327481c949e3fbcac676838",
            "5974222bec5a4ba39e837076eaa06840",
            "7dc5ab0fd1354c9c96a822455de8f040",
            "492ccad630ae416489c0dbc33a1958d3",
            "293846290a6d4cd1a69c0788ff4ba96d",
            "f4773a4c09494bbdb414d72d2bf77327",
            "f89db5868a274f7d9ac5309eb1adbdd2",
            "29ef50fb142f41abbf462b0891ce45e9",
            "93e367efa2634f3b8f7a5552dea1e496",
            "958e9cf93ae34c11a60e0517cbcfc1d0",
            "3bbae6e1dca14ff9a1919f72d372af4c",
            "d48f37e3bd0a4974bc48e008a30000ba",
            "370b518d2fdc471fb9ac3c85281836ef",
            "9e0690cc39654387a0b24a7528aab4da",
            "3a29f02d7652412998e5ec8813fcf4a9",
            "1a5d7a348b794403a96ce89c97104e5e",
            "309e401547514d95810f4e2e2754b1d5",
            "78cdadbf5f874a4c948cde7e7fee5021",
            "a18fd21c04fa47b2a68666cb84a4aed1",
            "4dc7f14cb60543a38c6c38076e731cdd",
            "0bbb15d519b24b49842b896ec26cd89a",
            "b9352d71530b482a84c16f107c80c486",
            "959240ceb0a7493f95bb4ea256025425",
            "f3278b39fc8440578d491bebf932cc29",
            "0ffa46fa22a648178d7eaa574291e390",
            "0de280a1f60740deb172ddbbe5eaa24c",
            "7e6687ebbddd4514bff245c0ab0ac59b",
            "0b4408c1c81643a2b3c776db7862eb68",
            "cdfa7c9321fa4a3e9a63a698e7f5145f",
            "e08e85ff96a74e2ca1e178de0b9620fb",
            "c76469e7b9fe4df1ae3b1b3e4934d5a7",
            "82736083d16541cdbb71e4b952039c64",
            "9354fdefb1e942cc9e77e4abbd13727a"
          ]
        },
        "id": "G0ntQtKpBNdi",
        "outputId": "208d2d36-aab8-4775-fd71-4e6913bd4178"
      },
      "outputs": [
        {
          "output_type": "display_data",
          "data": {
            "text/plain": [
              "training the model at fold1:   0%|          | 0/300 [00:00<?, ?it/s]"
            ],
            "application/vnd.jupyter.widget-view+json": {
              "version_major": 2,
              "version_minor": 0,
              "model_id": "88af6a41d8234475b50ce016c1dca6f1"
            }
          },
          "metadata": {}
        },
        {
          "output_type": "stream",
          "name": "stdout",
          "text": [
            "--- Fold1 ---\n",
            "Best Model @ epoch : 193\n",
            "Train loss: 0.4918 | val loss : 0.5211 | train acc: 0.7556 | val acc: 0.7875\n"
          ]
        },
        {
          "output_type": "display_data",
          "data": {
            "text/plain": [
              "training the model at fold2:   0%|          | 0/300 [00:00<?, ?it/s]"
            ],
            "application/vnd.jupyter.widget-view+json": {
              "version_major": 2,
              "version_minor": 0,
              "model_id": "e333637ec7ca4df0b3c722b2e6c1a34f"
            }
          },
          "metadata": {}
        },
        {
          "output_type": "stream",
          "name": "stdout",
          "text": [
            "--- Fold2 ---\n",
            "Best Model @ epoch : 211\n",
            "Train loss: 0.4667 | val loss : 0.5322 | train acc: 0.7750 | val acc: 0.7594\n"
          ]
        },
        {
          "output_type": "display_data",
          "data": {
            "text/plain": [
              "training the model at fold3:   0%|          | 0/300 [00:00<?, ?it/s]"
            ],
            "application/vnd.jupyter.widget-view+json": {
              "version_major": 2,
              "version_minor": 0,
              "model_id": "3babab10e327481c949e3fbcac676838"
            }
          },
          "metadata": {}
        },
        {
          "output_type": "stream",
          "name": "stdout",
          "text": [
            "--- Fold3 ---\n",
            "Best Model @ epoch : 53\n",
            "Train loss: 0.5125 | val loss : 0.4530 | train acc: 0.7540 | val acc: 0.8000\n"
          ]
        },
        {
          "output_type": "display_data",
          "data": {
            "text/plain": [
              "training the model at fold4:   0%|          | 0/300 [00:00<?, ?it/s]"
            ],
            "application/vnd.jupyter.widget-view+json": {
              "version_major": 2,
              "version_minor": 0,
              "model_id": "d48f37e3bd0a4974bc48e008a30000ba"
            }
          },
          "metadata": {}
        },
        {
          "output_type": "stream",
          "name": "stdout",
          "text": [
            "--- Fold4 ---\n",
            "Best Model @ epoch : 101\n",
            "Train loss: 0.4981 | val loss : 0.4578 | train acc: 0.7452 | val acc: 0.8167\n"
          ]
        },
        {
          "output_type": "display_data",
          "data": {
            "text/plain": [
              "training the model at fold5:   0%|          | 0/300 [00:00<?, ?it/s]"
            ],
            "application/vnd.jupyter.widget-view+json": {
              "version_major": 2,
              "version_minor": 0,
              "model_id": "959240ceb0a7493f95bb4ea256025425"
            }
          },
          "metadata": {}
        },
        {
          "output_type": "stream",
          "name": "stdout",
          "text": [
            "--- Fold5 ---\n",
            "Best Model @ epoch : 56\n",
            "Train loss: 0.4916 | val loss : 0.4895 | train acc: 0.7742 | val acc: 0.8062\n"
          ]
        }
      ],
      "source": [
        "# check for their split of StratifiedKFold (K-Fold)\n",
        "batch_size = 10\n",
        "epochs = 300\n",
        "\n",
        "# set the seed for reproducibility\n",
        "torch.manual_seed(69)\n",
        "for fold, (train_index, test_index) in enumerate(skf.split(X, y)):\n",
        "  X_train, y_train = X[train_index], y[train_index]\n",
        "  X_test, y_test = X[test_index], y[test_index]\n",
        "  # print(X_train.shape, y_train.shape)\n",
        "  # print(X_test.shape, y_test.shape)\n",
        "\n",
        "  # Create an instance of custom PID dataset\n",
        "  train_dataset = pidDataset(X_train, y_train)\n",
        "  test_dataset = pidDataset(X_test, y_test)\n",
        "\n",
        "  # Create a DataLoader (default will be in format of torch)\n",
        "  train_dataloader = DataLoader(train_dataset, batch_size=batch_size, shuffle=True)\n",
        "  test_dataloader = DataLoader(test_dataset, batch_size=batch_size)\n",
        "\n",
        "  # define a model (with k-fold, we always re-initialize the model)\n",
        "  model = cnn1Dmodel(input_features=1, out_features=1,num_labels=2,k_size= 2,stride= 2)\n",
        "  optimizer = torch.optim.AdamW(model.parameters(), lr=1e-2)\n",
        "  metric = BinaryAccuracy()\n",
        "  loss_fn = nn.BCELoss()\n",
        "\n",
        "  # construct a training loop\n",
        "  # convert all the model parameters into double type.\n",
        "  # This should give a compatible model given your input data is double\n",
        "  model = model.double()\n",
        "\n",
        "  epoch_counts = []\n",
        "  train_loss_values = []\n",
        "  val_loss_values = []\n",
        "\n",
        "  # to keep record of the best model (my epoch start counting from zero)\n",
        "  best_epoch, best_train_acc, best_train_loss = 0, 0, 0\n",
        "  best_val_acc, best_val_loss = 0, 0\n",
        "\n",
        "  for epoch in tqdm(range(epochs), desc=f'training the model at fold{fold+1}'):\n",
        "    ## Training\n",
        "    train_acc, train_loss = 0, 0\n",
        "    # Add a loop to loop trhough the training batches\n",
        "    for batch, (features, labels) in enumerate(train_dataloader):\n",
        "      model.train()\n",
        "      # forward pass\n",
        "      # format label to make it compatible with prediction\n",
        "      labels = labels.unsqueeze(-1).unsqueeze(-1)\n",
        "      raw_logits = model(features.unsqueeze(1))\n",
        "      probs = torch.sigmoid(raw_logits)\n",
        "      preds = (probs > 0.5).float()\n",
        "      # since bceLoss take probability as an input (not logits)\n",
        "      loss = loss_fn(probs, labels)\n",
        "      acc = metric(preds, labels)\n",
        "      # save stats\n",
        "      train_loss += loss\n",
        "      train_acc += acc\n",
        "\n",
        "      # optimizer zero grad\n",
        "      optimizer.zero_grad()\n",
        "      # compute backward loss (backpropagation)\n",
        "      loss.backward()\n",
        "      # Gradient Descent (optimizer step)\n",
        "      optimizer.step()\n",
        "\n",
        "    train_loss /= len(train_dataloader)\n",
        "    train_acc /= len(train_dataloader)\n",
        "\n",
        "    # evaluation loop\n",
        "    val_acc, val_loss = 0, 0\n",
        "    for batch, (val_features, val_labels) in enumerate(test_dataloader):\n",
        "      with torch.inference_mode():\n",
        "        # make it compare to prediction\n",
        "        val_labels = val_labels.unsqueeze(-1).unsqueeze(-1)\n",
        "        val_logits = model(val_features.unsqueeze(1))\n",
        "        val_probs = torch.sigmoid(val_logits)\n",
        "        val_preds = (val_probs > 0.5).float()\n",
        "        loss = loss_fn(val_probs, val_labels)\n",
        "        acc = metric(val_preds, val_labels)\n",
        "        # update stats\n",
        "        val_loss += loss\n",
        "        val_acc += acc\n",
        "\n",
        "    val_loss = val_loss / len(test_dataloader)\n",
        "    val_acc  = val_acc / len(test_dataloader)\n",
        "\n",
        "    if (val_acc > best_val_acc):\n",
        "      # record the stats of the best model\n",
        "      best_val_acc = val_acc # this should be update for finding the best model\n",
        "      best_val_loss = val_loss\n",
        "      best_train_acc = train_acc\n",
        "      best_train_loss = train_loss\n",
        "      best_epoch = epoch\n",
        "      torch.save(model.state_dict(), f'/content/ensemble/best_model_fold{fold+1}.pth')\n",
        "\n",
        "  print(f\"--- Fold{fold+1} ---\")\n",
        "  print(f\"Best Model @ epoch : {best_epoch}\")\n",
        "  print(f\"Train loss: {best_train_loss:.4f} | val loss : {best_val_loss:.4f} | train acc: {best_train_acc:.4f} | val acc: {best_val_acc:.4f}\")\n",
        "\n",
        "  # uncomment this part to visualize each fold\n",
        "  #break"
      ]
    },
    {
      "cell_type": "markdown",
      "metadata": {
        "id": "iWIQbHsER35H"
      },
      "source": [
        "# Voting Ensemble (Fundamental) ⛪\n",
        "- since the model in fold 5 is the strongest model, then, an inference will keep respect to that model"
      ]
    },
    {
      "cell_type": "code",
      "execution_count": 40,
      "metadata": {
        "id": "rnDo15JQTz_s"
      },
      "outputs": [],
      "source": [
        "def esb_evaluate(path:str):\n",
        "  # Load the saved state dictionary of the best model (acc: 0.81) into the model\n",
        "  model = cnn1Dmodel(input_features=1, out_features=1,num_labels=2,k_size= 2,stride= 2)\n",
        "  model.load_state_dict(torch.load(path))\n",
        "\n",
        "  prediction = [] # to keep the pseudo labels\n",
        "  label_list = y_test.tolist()\n",
        "  test_dataloader = DataLoader(test_dataset, batch_size=1)\n",
        "\n",
        "  # convert the model into double format\n",
        "  model = model.double()\n",
        "  for index, (feature, label) in enumerate(test_dataloader):\n",
        "    with torch.inference_mode():\n",
        "      label = label.unsqueeze(-1).unsqueeze(-1)\n",
        "      logit = model(feature.unsqueeze(1))\n",
        "      prob = torch.sigmoid(logit)\n",
        "      # get condition part\n",
        "      if (prob > 0.5):\n",
        "        prediction.append(1)\n",
        "      else:\n",
        "        prediction.append(0)\n",
        "\n",
        "  check = [1 if (int(prediction[i]) == int(label_list[i])) else 0 for i in range(len(prediction))]\n",
        "  score = sum(check) / len(prediction)\n",
        "  return prediction\n"
      ]
    },
    {
      "cell_type": "code",
      "execution_count": 41,
      "metadata": {
        "id": "r77BPVNFR3Qb"
      },
      "outputs": [],
      "source": [
        "# make a vote ensemble on 5 models from each fold\n",
        "prediction = {}\n",
        "weak_models = [wmi for wmi in glob.glob('/content/ensemble/*')]\n",
        "for i in range(len(weak_models)):\n",
        "  prediction[f'weak_model{i}'] = esb_evaluate(weak_models[i])"
      ]
    },
    {
      "cell_type": "code",
      "execution_count": 42,
      "metadata": {
        "colab": {
          "base_uri": "https://localhost:8080/",
          "height": 143
        },
        "id": "KEFw76oLUBjN",
        "outputId": "717724cb-3748-4924-d452-e476403355e0"
      },
      "outputs": [
        {
          "output_type": "execute_result",
          "data": {
            "text/plain": [
              "   weak_model0  weak_model1  weak_model2  weak_model3  weak_model4\n",
              "0            0            0            0            0            0\n",
              "1            0            0            0            0            0\n",
              "2            0            0            0            0            0"
            ],
            "text/html": [
              "\n",
              "  <div id=\"df-350f46aa-60bd-4dcb-9039-33cfe4d4fe79\" class=\"colab-df-container\">\n",
              "    <div>\n",
              "<style scoped>\n",
              "    .dataframe tbody tr th:only-of-type {\n",
              "        vertical-align: middle;\n",
              "    }\n",
              "\n",
              "    .dataframe tbody tr th {\n",
              "        vertical-align: top;\n",
              "    }\n",
              "\n",
              "    .dataframe thead th {\n",
              "        text-align: right;\n",
              "    }\n",
              "</style>\n",
              "<table border=\"1\" class=\"dataframe\">\n",
              "  <thead>\n",
              "    <tr style=\"text-align: right;\">\n",
              "      <th></th>\n",
              "      <th>weak_model0</th>\n",
              "      <th>weak_model1</th>\n",
              "      <th>weak_model2</th>\n",
              "      <th>weak_model3</th>\n",
              "      <th>weak_model4</th>\n",
              "    </tr>\n",
              "  </thead>\n",
              "  <tbody>\n",
              "    <tr>\n",
              "      <th>0</th>\n",
              "      <td>0</td>\n",
              "      <td>0</td>\n",
              "      <td>0</td>\n",
              "      <td>0</td>\n",
              "      <td>0</td>\n",
              "    </tr>\n",
              "    <tr>\n",
              "      <th>1</th>\n",
              "      <td>0</td>\n",
              "      <td>0</td>\n",
              "      <td>0</td>\n",
              "      <td>0</td>\n",
              "      <td>0</td>\n",
              "    </tr>\n",
              "    <tr>\n",
              "      <th>2</th>\n",
              "      <td>0</td>\n",
              "      <td>0</td>\n",
              "      <td>0</td>\n",
              "      <td>0</td>\n",
              "      <td>0</td>\n",
              "    </tr>\n",
              "  </tbody>\n",
              "</table>\n",
              "</div>\n",
              "    <div class=\"colab-df-buttons\">\n",
              "\n",
              "  <div class=\"colab-df-container\">\n",
              "    <button class=\"colab-df-convert\" onclick=\"convertToInteractive('df-350f46aa-60bd-4dcb-9039-33cfe4d4fe79')\"\n",
              "            title=\"Convert this dataframe to an interactive table.\"\n",
              "            style=\"display:none;\">\n",
              "\n",
              "  <svg xmlns=\"http://www.w3.org/2000/svg\" height=\"24px\" viewBox=\"0 -960 960 960\">\n",
              "    <path d=\"M120-120v-720h720v720H120Zm60-500h600v-160H180v160Zm220 220h160v-160H400v160Zm0 220h160v-160H400v160ZM180-400h160v-160H180v160Zm440 0h160v-160H620v160ZM180-180h160v-160H180v160Zm440 0h160v-160H620v160Z\"/>\n",
              "  </svg>\n",
              "    </button>\n",
              "\n",
              "  <style>\n",
              "    .colab-df-container {\n",
              "      display:flex;\n",
              "      gap: 12px;\n",
              "    }\n",
              "\n",
              "    .colab-df-convert {\n",
              "      background-color: #E8F0FE;\n",
              "      border: none;\n",
              "      border-radius: 50%;\n",
              "      cursor: pointer;\n",
              "      display: none;\n",
              "      fill: #1967D2;\n",
              "      height: 32px;\n",
              "      padding: 0 0 0 0;\n",
              "      width: 32px;\n",
              "    }\n",
              "\n",
              "    .colab-df-convert:hover {\n",
              "      background-color: #E2EBFA;\n",
              "      box-shadow: 0px 1px 2px rgba(60, 64, 67, 0.3), 0px 1px 3px 1px rgba(60, 64, 67, 0.15);\n",
              "      fill: #174EA6;\n",
              "    }\n",
              "\n",
              "    .colab-df-buttons div {\n",
              "      margin-bottom: 4px;\n",
              "    }\n",
              "\n",
              "    [theme=dark] .colab-df-convert {\n",
              "      background-color: #3B4455;\n",
              "      fill: #D2E3FC;\n",
              "    }\n",
              "\n",
              "    [theme=dark] .colab-df-convert:hover {\n",
              "      background-color: #434B5C;\n",
              "      box-shadow: 0px 1px 3px 1px rgba(0, 0, 0, 0.15);\n",
              "      filter: drop-shadow(0px 1px 2px rgba(0, 0, 0, 0.3));\n",
              "      fill: #FFFFFF;\n",
              "    }\n",
              "  </style>\n",
              "\n",
              "    <script>\n",
              "      const buttonEl =\n",
              "        document.querySelector('#df-350f46aa-60bd-4dcb-9039-33cfe4d4fe79 button.colab-df-convert');\n",
              "      buttonEl.style.display =\n",
              "        google.colab.kernel.accessAllowed ? 'block' : 'none';\n",
              "\n",
              "      async function convertToInteractive(key) {\n",
              "        const element = document.querySelector('#df-350f46aa-60bd-4dcb-9039-33cfe4d4fe79');\n",
              "        const dataTable =\n",
              "          await google.colab.kernel.invokeFunction('convertToInteractive',\n",
              "                                                    [key], {});\n",
              "        if (!dataTable) return;\n",
              "\n",
              "        const docLinkHtml = 'Like what you see? Visit the ' +\n",
              "          '<a target=\"_blank\" href=https://colab.research.google.com/notebooks/data_table.ipynb>data table notebook</a>'\n",
              "          + ' to learn more about interactive tables.';\n",
              "        element.innerHTML = '';\n",
              "        dataTable['output_type'] = 'display_data';\n",
              "        await google.colab.output.renderOutput(dataTable, element);\n",
              "        const docLink = document.createElement('div');\n",
              "        docLink.innerHTML = docLinkHtml;\n",
              "        element.appendChild(docLink);\n",
              "      }\n",
              "    </script>\n",
              "  </div>\n",
              "\n",
              "\n",
              "<div id=\"df-3774fa75-2da1-478d-97e3-def80a001e8d\">\n",
              "  <button class=\"colab-df-quickchart\" onclick=\"quickchart('df-3774fa75-2da1-478d-97e3-def80a001e8d')\"\n",
              "            title=\"Suggest charts.\"\n",
              "            style=\"display:none;\">\n",
              "\n",
              "<svg xmlns=\"http://www.w3.org/2000/svg\" height=\"24px\"viewBox=\"0 0 24 24\"\n",
              "     width=\"24px\">\n",
              "    <g>\n",
              "        <path d=\"M19 3H5c-1.1 0-2 .9-2 2v14c0 1.1.9 2 2 2h14c1.1 0 2-.9 2-2V5c0-1.1-.9-2-2-2zM9 17H7v-7h2v7zm4 0h-2V7h2v10zm4 0h-2v-4h2v4z\"/>\n",
              "    </g>\n",
              "</svg>\n",
              "  </button>\n",
              "\n",
              "<style>\n",
              "  .colab-df-quickchart {\n",
              "      --bg-color: #E8F0FE;\n",
              "      --fill-color: #1967D2;\n",
              "      --hover-bg-color: #E2EBFA;\n",
              "      --hover-fill-color: #174EA6;\n",
              "      --disabled-fill-color: #AAA;\n",
              "      --disabled-bg-color: #DDD;\n",
              "  }\n",
              "\n",
              "  [theme=dark] .colab-df-quickchart {\n",
              "      --bg-color: #3B4455;\n",
              "      --fill-color: #D2E3FC;\n",
              "      --hover-bg-color: #434B5C;\n",
              "      --hover-fill-color: #FFFFFF;\n",
              "      --disabled-bg-color: #3B4455;\n",
              "      --disabled-fill-color: #666;\n",
              "  }\n",
              "\n",
              "  .colab-df-quickchart {\n",
              "    background-color: var(--bg-color);\n",
              "    border: none;\n",
              "    border-radius: 50%;\n",
              "    cursor: pointer;\n",
              "    display: none;\n",
              "    fill: var(--fill-color);\n",
              "    height: 32px;\n",
              "    padding: 0;\n",
              "    width: 32px;\n",
              "  }\n",
              "\n",
              "  .colab-df-quickchart:hover {\n",
              "    background-color: var(--hover-bg-color);\n",
              "    box-shadow: 0 1px 2px rgba(60, 64, 67, 0.3), 0 1px 3px 1px rgba(60, 64, 67, 0.15);\n",
              "    fill: var(--button-hover-fill-color);\n",
              "  }\n",
              "\n",
              "  .colab-df-quickchart-complete:disabled,\n",
              "  .colab-df-quickchart-complete:disabled:hover {\n",
              "    background-color: var(--disabled-bg-color);\n",
              "    fill: var(--disabled-fill-color);\n",
              "    box-shadow: none;\n",
              "  }\n",
              "\n",
              "  .colab-df-spinner {\n",
              "    border: 2px solid var(--fill-color);\n",
              "    border-color: transparent;\n",
              "    border-bottom-color: var(--fill-color);\n",
              "    animation:\n",
              "      spin 1s steps(1) infinite;\n",
              "  }\n",
              "\n",
              "  @keyframes spin {\n",
              "    0% {\n",
              "      border-color: transparent;\n",
              "      border-bottom-color: var(--fill-color);\n",
              "      border-left-color: var(--fill-color);\n",
              "    }\n",
              "    20% {\n",
              "      border-color: transparent;\n",
              "      border-left-color: var(--fill-color);\n",
              "      border-top-color: var(--fill-color);\n",
              "    }\n",
              "    30% {\n",
              "      border-color: transparent;\n",
              "      border-left-color: var(--fill-color);\n",
              "      border-top-color: var(--fill-color);\n",
              "      border-right-color: var(--fill-color);\n",
              "    }\n",
              "    40% {\n",
              "      border-color: transparent;\n",
              "      border-right-color: var(--fill-color);\n",
              "      border-top-color: var(--fill-color);\n",
              "    }\n",
              "    60% {\n",
              "      border-color: transparent;\n",
              "      border-right-color: var(--fill-color);\n",
              "    }\n",
              "    80% {\n",
              "      border-color: transparent;\n",
              "      border-right-color: var(--fill-color);\n",
              "      border-bottom-color: var(--fill-color);\n",
              "    }\n",
              "    90% {\n",
              "      border-color: transparent;\n",
              "      border-bottom-color: var(--fill-color);\n",
              "    }\n",
              "  }\n",
              "</style>\n",
              "\n",
              "  <script>\n",
              "    async function quickchart(key) {\n",
              "      const quickchartButtonEl =\n",
              "        document.querySelector('#' + key + ' button');\n",
              "      quickchartButtonEl.disabled = true;  // To prevent multiple clicks.\n",
              "      quickchartButtonEl.classList.add('colab-df-spinner');\n",
              "      try {\n",
              "        const charts = await google.colab.kernel.invokeFunction(\n",
              "            'suggestCharts', [key], {});\n",
              "      } catch (error) {\n",
              "        console.error('Error during call to suggestCharts:', error);\n",
              "      }\n",
              "      quickchartButtonEl.classList.remove('colab-df-spinner');\n",
              "      quickchartButtonEl.classList.add('colab-df-quickchart-complete');\n",
              "    }\n",
              "    (() => {\n",
              "      let quickchartButtonEl =\n",
              "        document.querySelector('#df-3774fa75-2da1-478d-97e3-def80a001e8d button');\n",
              "      quickchartButtonEl.style.display =\n",
              "        google.colab.kernel.accessAllowed ? 'block' : 'none';\n",
              "    })();\n",
              "  </script>\n",
              "</div>\n",
              "    </div>\n",
              "  </div>\n"
            ]
          },
          "metadata": {},
          "execution_count": 42
        }
      ],
      "source": [
        "# get a dataframe\n",
        "total_prediction = pd.DataFrame(prediction)\n",
        "total_prediction.head(3)"
      ]
    },
    {
      "cell_type": "code",
      "execution_count": 43,
      "metadata": {
        "colab": {
          "base_uri": "https://localhost:8080/",
          "height": 206
        },
        "id": "bzJFe4hHUWEE",
        "outputId": "5d2840c8-4cd5-45e9-bed5-6d139d6ac67c"
      },
      "outputs": [
        {
          "output_type": "execute_result",
          "data": {
            "text/plain": [
              "     weak_model0  weak_model1  weak_model2  weak_model3  weak_model4  \\\n",
              "148            0            0            0            1            0   \n",
              "149            0            0            0            1            0   \n",
              "150            0            0            0            0            0   \n",
              "151            0            0            1            1            0   \n",
              "152            0            0            0            0            0   \n",
              "\n",
              "     ensemble_predictions  \n",
              "148                     0  \n",
              "149                     0  \n",
              "150                     0  \n",
              "151                     0  \n",
              "152                     0  "
            ],
            "text/html": [
              "\n",
              "  <div id=\"df-28ebe5d7-3a47-4f12-bd74-79875a24d522\" class=\"colab-df-container\">\n",
              "    <div>\n",
              "<style scoped>\n",
              "    .dataframe tbody tr th:only-of-type {\n",
              "        vertical-align: middle;\n",
              "    }\n",
              "\n",
              "    .dataframe tbody tr th {\n",
              "        vertical-align: top;\n",
              "    }\n",
              "\n",
              "    .dataframe thead th {\n",
              "        text-align: right;\n",
              "    }\n",
              "</style>\n",
              "<table border=\"1\" class=\"dataframe\">\n",
              "  <thead>\n",
              "    <tr style=\"text-align: right;\">\n",
              "      <th></th>\n",
              "      <th>weak_model0</th>\n",
              "      <th>weak_model1</th>\n",
              "      <th>weak_model2</th>\n",
              "      <th>weak_model3</th>\n",
              "      <th>weak_model4</th>\n",
              "      <th>ensemble_predictions</th>\n",
              "    </tr>\n",
              "  </thead>\n",
              "  <tbody>\n",
              "    <tr>\n",
              "      <th>148</th>\n",
              "      <td>0</td>\n",
              "      <td>0</td>\n",
              "      <td>0</td>\n",
              "      <td>1</td>\n",
              "      <td>0</td>\n",
              "      <td>0</td>\n",
              "    </tr>\n",
              "    <tr>\n",
              "      <th>149</th>\n",
              "      <td>0</td>\n",
              "      <td>0</td>\n",
              "      <td>0</td>\n",
              "      <td>1</td>\n",
              "      <td>0</td>\n",
              "      <td>0</td>\n",
              "    </tr>\n",
              "    <tr>\n",
              "      <th>150</th>\n",
              "      <td>0</td>\n",
              "      <td>0</td>\n",
              "      <td>0</td>\n",
              "      <td>0</td>\n",
              "      <td>0</td>\n",
              "      <td>0</td>\n",
              "    </tr>\n",
              "    <tr>\n",
              "      <th>151</th>\n",
              "      <td>0</td>\n",
              "      <td>0</td>\n",
              "      <td>1</td>\n",
              "      <td>1</td>\n",
              "      <td>0</td>\n",
              "      <td>0</td>\n",
              "    </tr>\n",
              "    <tr>\n",
              "      <th>152</th>\n",
              "      <td>0</td>\n",
              "      <td>0</td>\n",
              "      <td>0</td>\n",
              "      <td>0</td>\n",
              "      <td>0</td>\n",
              "      <td>0</td>\n",
              "    </tr>\n",
              "  </tbody>\n",
              "</table>\n",
              "</div>\n",
              "    <div class=\"colab-df-buttons\">\n",
              "\n",
              "  <div class=\"colab-df-container\">\n",
              "    <button class=\"colab-df-convert\" onclick=\"convertToInteractive('df-28ebe5d7-3a47-4f12-bd74-79875a24d522')\"\n",
              "            title=\"Convert this dataframe to an interactive table.\"\n",
              "            style=\"display:none;\">\n",
              "\n",
              "  <svg xmlns=\"http://www.w3.org/2000/svg\" height=\"24px\" viewBox=\"0 -960 960 960\">\n",
              "    <path d=\"M120-120v-720h720v720H120Zm60-500h600v-160H180v160Zm220 220h160v-160H400v160Zm0 220h160v-160H400v160ZM180-400h160v-160H180v160Zm440 0h160v-160H620v160ZM180-180h160v-160H180v160Zm440 0h160v-160H620v160Z\"/>\n",
              "  </svg>\n",
              "    </button>\n",
              "\n",
              "  <style>\n",
              "    .colab-df-container {\n",
              "      display:flex;\n",
              "      gap: 12px;\n",
              "    }\n",
              "\n",
              "    .colab-df-convert {\n",
              "      background-color: #E8F0FE;\n",
              "      border: none;\n",
              "      border-radius: 50%;\n",
              "      cursor: pointer;\n",
              "      display: none;\n",
              "      fill: #1967D2;\n",
              "      height: 32px;\n",
              "      padding: 0 0 0 0;\n",
              "      width: 32px;\n",
              "    }\n",
              "\n",
              "    .colab-df-convert:hover {\n",
              "      background-color: #E2EBFA;\n",
              "      box-shadow: 0px 1px 2px rgba(60, 64, 67, 0.3), 0px 1px 3px 1px rgba(60, 64, 67, 0.15);\n",
              "      fill: #174EA6;\n",
              "    }\n",
              "\n",
              "    .colab-df-buttons div {\n",
              "      margin-bottom: 4px;\n",
              "    }\n",
              "\n",
              "    [theme=dark] .colab-df-convert {\n",
              "      background-color: #3B4455;\n",
              "      fill: #D2E3FC;\n",
              "    }\n",
              "\n",
              "    [theme=dark] .colab-df-convert:hover {\n",
              "      background-color: #434B5C;\n",
              "      box-shadow: 0px 1px 3px 1px rgba(0, 0, 0, 0.15);\n",
              "      filter: drop-shadow(0px 1px 2px rgba(0, 0, 0, 0.3));\n",
              "      fill: #FFFFFF;\n",
              "    }\n",
              "  </style>\n",
              "\n",
              "    <script>\n",
              "      const buttonEl =\n",
              "        document.querySelector('#df-28ebe5d7-3a47-4f12-bd74-79875a24d522 button.colab-df-convert');\n",
              "      buttonEl.style.display =\n",
              "        google.colab.kernel.accessAllowed ? 'block' : 'none';\n",
              "\n",
              "      async function convertToInteractive(key) {\n",
              "        const element = document.querySelector('#df-28ebe5d7-3a47-4f12-bd74-79875a24d522');\n",
              "        const dataTable =\n",
              "          await google.colab.kernel.invokeFunction('convertToInteractive',\n",
              "                                                    [key], {});\n",
              "        if (!dataTable) return;\n",
              "\n",
              "        const docLinkHtml = 'Like what you see? Visit the ' +\n",
              "          '<a target=\"_blank\" href=https://colab.research.google.com/notebooks/data_table.ipynb>data table notebook</a>'\n",
              "          + ' to learn more about interactive tables.';\n",
              "        element.innerHTML = '';\n",
              "        dataTable['output_type'] = 'display_data';\n",
              "        await google.colab.output.renderOutput(dataTable, element);\n",
              "        const docLink = document.createElement('div');\n",
              "        docLink.innerHTML = docLinkHtml;\n",
              "        element.appendChild(docLink);\n",
              "      }\n",
              "    </script>\n",
              "  </div>\n",
              "\n",
              "\n",
              "<div id=\"df-259c6d7b-d015-4a49-bb3d-6ec7e2f76cf0\">\n",
              "  <button class=\"colab-df-quickchart\" onclick=\"quickchart('df-259c6d7b-d015-4a49-bb3d-6ec7e2f76cf0')\"\n",
              "            title=\"Suggest charts.\"\n",
              "            style=\"display:none;\">\n",
              "\n",
              "<svg xmlns=\"http://www.w3.org/2000/svg\" height=\"24px\"viewBox=\"0 0 24 24\"\n",
              "     width=\"24px\">\n",
              "    <g>\n",
              "        <path d=\"M19 3H5c-1.1 0-2 .9-2 2v14c0 1.1.9 2 2 2h14c1.1 0 2-.9 2-2V5c0-1.1-.9-2-2-2zM9 17H7v-7h2v7zm4 0h-2V7h2v10zm4 0h-2v-4h2v4z\"/>\n",
              "    </g>\n",
              "</svg>\n",
              "  </button>\n",
              "\n",
              "<style>\n",
              "  .colab-df-quickchart {\n",
              "      --bg-color: #E8F0FE;\n",
              "      --fill-color: #1967D2;\n",
              "      --hover-bg-color: #E2EBFA;\n",
              "      --hover-fill-color: #174EA6;\n",
              "      --disabled-fill-color: #AAA;\n",
              "      --disabled-bg-color: #DDD;\n",
              "  }\n",
              "\n",
              "  [theme=dark] .colab-df-quickchart {\n",
              "      --bg-color: #3B4455;\n",
              "      --fill-color: #D2E3FC;\n",
              "      --hover-bg-color: #434B5C;\n",
              "      --hover-fill-color: #FFFFFF;\n",
              "      --disabled-bg-color: #3B4455;\n",
              "      --disabled-fill-color: #666;\n",
              "  }\n",
              "\n",
              "  .colab-df-quickchart {\n",
              "    background-color: var(--bg-color);\n",
              "    border: none;\n",
              "    border-radius: 50%;\n",
              "    cursor: pointer;\n",
              "    display: none;\n",
              "    fill: var(--fill-color);\n",
              "    height: 32px;\n",
              "    padding: 0;\n",
              "    width: 32px;\n",
              "  }\n",
              "\n",
              "  .colab-df-quickchart:hover {\n",
              "    background-color: var(--hover-bg-color);\n",
              "    box-shadow: 0 1px 2px rgba(60, 64, 67, 0.3), 0 1px 3px 1px rgba(60, 64, 67, 0.15);\n",
              "    fill: var(--button-hover-fill-color);\n",
              "  }\n",
              "\n",
              "  .colab-df-quickchart-complete:disabled,\n",
              "  .colab-df-quickchart-complete:disabled:hover {\n",
              "    background-color: var(--disabled-bg-color);\n",
              "    fill: var(--disabled-fill-color);\n",
              "    box-shadow: none;\n",
              "  }\n",
              "\n",
              "  .colab-df-spinner {\n",
              "    border: 2px solid var(--fill-color);\n",
              "    border-color: transparent;\n",
              "    border-bottom-color: var(--fill-color);\n",
              "    animation:\n",
              "      spin 1s steps(1) infinite;\n",
              "  }\n",
              "\n",
              "  @keyframes spin {\n",
              "    0% {\n",
              "      border-color: transparent;\n",
              "      border-bottom-color: var(--fill-color);\n",
              "      border-left-color: var(--fill-color);\n",
              "    }\n",
              "    20% {\n",
              "      border-color: transparent;\n",
              "      border-left-color: var(--fill-color);\n",
              "      border-top-color: var(--fill-color);\n",
              "    }\n",
              "    30% {\n",
              "      border-color: transparent;\n",
              "      border-left-color: var(--fill-color);\n",
              "      border-top-color: var(--fill-color);\n",
              "      border-right-color: var(--fill-color);\n",
              "    }\n",
              "    40% {\n",
              "      border-color: transparent;\n",
              "      border-right-color: var(--fill-color);\n",
              "      border-top-color: var(--fill-color);\n",
              "    }\n",
              "    60% {\n",
              "      border-color: transparent;\n",
              "      border-right-color: var(--fill-color);\n",
              "    }\n",
              "    80% {\n",
              "      border-color: transparent;\n",
              "      border-right-color: var(--fill-color);\n",
              "      border-bottom-color: var(--fill-color);\n",
              "    }\n",
              "    90% {\n",
              "      border-color: transparent;\n",
              "      border-bottom-color: var(--fill-color);\n",
              "    }\n",
              "  }\n",
              "</style>\n",
              "\n",
              "  <script>\n",
              "    async function quickchart(key) {\n",
              "      const quickchartButtonEl =\n",
              "        document.querySelector('#' + key + ' button');\n",
              "      quickchartButtonEl.disabled = true;  // To prevent multiple clicks.\n",
              "      quickchartButtonEl.classList.add('colab-df-spinner');\n",
              "      try {\n",
              "        const charts = await google.colab.kernel.invokeFunction(\n",
              "            'suggestCharts', [key], {});\n",
              "      } catch (error) {\n",
              "        console.error('Error during call to suggestCharts:', error);\n",
              "      }\n",
              "      quickchartButtonEl.classList.remove('colab-df-spinner');\n",
              "      quickchartButtonEl.classList.add('colab-df-quickchart-complete');\n",
              "    }\n",
              "    (() => {\n",
              "      let quickchartButtonEl =\n",
              "        document.querySelector('#df-259c6d7b-d015-4a49-bb3d-6ec7e2f76cf0 button');\n",
              "      quickchartButtonEl.style.display =\n",
              "        google.colab.kernel.accessAllowed ? 'block' : 'none';\n",
              "    })();\n",
              "  </script>\n",
              "</div>\n",
              "    </div>\n",
              "  </div>\n"
            ]
          },
          "metadata": {},
          "execution_count": 43
        }
      ],
      "source": [
        "total_prediction['ensemble_predictions'] = total_prediction.mode(axis=1)\n",
        "total_prediction.tail(5)"
      ]
    },
    {
      "cell_type": "code",
      "execution_count": 44,
      "metadata": {
        "colab": {
          "base_uri": "https://localhost:8080/"
        },
        "id": "0c2_x4_BWR55",
        "outputId": "9c3b4797-771d-40eb-c3d9-50f1b9ee24fb"
      },
      "outputs": [
        {
          "output_type": "stream",
          "name": "stdout",
          "text": [
            "153\n"
          ]
        }
      ],
      "source": [
        "esb_preds = list(total_prediction['ensemble_predictions'])\n",
        "print(len(esb_preds))"
      ]
    },
    {
      "cell_type": "code",
      "execution_count": 45,
      "metadata": {
        "colab": {
          "base_uri": "https://localhost:8080/"
        },
        "id": "SDL14p6VV7v0",
        "outputId": "ac55a74c-c54a-4f6c-d6ac-5d5ddbc83ce3"
      },
      "outputs": [
        {
          "output_type": "stream",
          "name": "stdout",
          "text": [
            "Accuracy: 0.8104575163398693\n"
          ]
        }
      ],
      "source": [
        "# evaluate\n",
        "label_list = y_test.tolist()\n",
        "check = [1 if (int(esb_preds [i]) == int(label_list[i])) else 0 for i in range(len(esb_preds))]\n",
        "score = sum(check) / len(esb_preds )\n",
        "print('Accuracy:', score)"
      ]
    },
    {
      "cell_type": "markdown",
      "metadata": {
        "id": "DGmkW-GZqHAD"
      },
      "source": [
        "# Model Soup Implementation (1 Jul 2022) 🥪\n",
        "- Top3 `state-of-the-art` implementation that did not increase the time complexity and can be used to improve an accuracy"
      ]
    },
    {
      "cell_type": "markdown",
      "metadata": {
        "id": "UQqbm-pRQXYQ"
      },
      "source": [
        "![modelsoup.PNG](data:image/png;base64,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)"
      ]
    },
    {
      "cell_type": "markdown",
      "metadata": {
        "id": "EByL1U_2Rsu0"
      },
      "source": [
        "![sota+imagenet.PNG](data:image/png;base64,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)"
      ]
    },
    {
      "cell_type": "code",
      "execution_count": 101,
      "metadata": {
        "id": "RvZptNZGqJFS"
      },
      "outputs": [],
      "source": [
        "def evaluate(path:str):\n",
        "  # Load the saved state dictionary of the best model (acc: 0.81) into the model\n",
        "  model = cnn1Dmodel(input_features=1, out_features=1,num_labels=2,k_size= 2,stride= 2)\n",
        "  model.load_state_dict(torch.load(path))\n",
        "\n",
        "  prediction = [] # to keep the pseudo labels\n",
        "  label_list = y_test.tolist()\n",
        "  test_dataloader = DataLoader(test_dataset, batch_size=1)\n",
        "\n",
        "  # convert the model into double format\n",
        "  model = model.double()\n",
        "  for index, (feature, label) in enumerate(test_dataloader):\n",
        "    with torch.inference_mode():\n",
        "      label = label.unsqueeze(-1).unsqueeze(-1)\n",
        "      logit = model(feature.unsqueeze(1))\n",
        "      prob = torch.sigmoid(logit)\n",
        "      # get condition part\n",
        "      if (prob > 0.5):\n",
        "        prediction.append(1)\n",
        "      else:\n",
        "        prediction.append(0)\n",
        "\n",
        "  check = [1 if (int(prediction[i]) == int(label_list[i])) else 0 for i in range(len(prediction))]\n",
        "  score = sum(check) / len(prediction)\n",
        "  return prediction, score\n"
      ]
    },
    {
      "cell_type": "code",
      "execution_count": 102,
      "metadata": {
        "id": "pw8XjL_2NY1c"
      },
      "outputs": [],
      "source": [
        "def test(test_model:nn.Module)->float:\n",
        "  prediction = [] # to keep the pseudo labels\n",
        "  label_list = y_test.tolist()\n",
        "  test_dataloader = DataLoader(test_dataset, batch_size=1)\n",
        "\n",
        "  # convert the model into double format\n",
        "  test_model = test_model.double()\n",
        "  for index, (feature, label) in enumerate(test_dataloader):\n",
        "    with torch.inference_mode():\n",
        "      label = label.unsqueeze(-1).unsqueeze(-1)\n",
        "      logit = test_model(feature.unsqueeze(1))\n",
        "      prob = torch.sigmoid(logit)\n",
        "      # get condition part\n",
        "      if (prob > 0.5):\n",
        "        prediction.append(1)\n",
        "      else:\n",
        "        prediction.append(0)\n",
        "\n",
        "  check = [1 if (int(prediction[i]) == int(label_list[i])) else 0 for i in range(len(prediction))]\n",
        "  score = sum(check) / len(prediction)\n",
        "  return score"
      ]
    },
    {
      "cell_type": "code",
      "execution_count": 103,
      "metadata": {
        "colab": {
          "base_uri": "https://localhost:8080/"
        },
        "id": "p1ncjANoKmQ6",
        "outputId": "82a19259-155e-4499-a511-04af0ddae60c"
      },
      "outputs": [
        {
          "output_type": "stream",
          "name": "stdout",
          "text": [
            "/content/ensemble/best_model_fold3.pth\n",
            "/content/ensemble/best_model_fold2.pth\n",
            "/content/ensemble/best_model_fold4.pth\n",
            "/content/ensemble/best_model_fold5.pth\n",
            "/content/ensemble/best_model_fold1.pth\n"
          ]
        }
      ],
      "source": [
        "# check for weight file\n",
        "for weight in glob.glob('/content/ensemble/*'):\n",
        "  print(weight)"
      ]
    },
    {
      "cell_type": "code",
      "execution_count": 104,
      "metadata": {
        "id": "x-JC0kJLKP3b"
      },
      "outputs": [],
      "source": [
        "# set components for model soup\n",
        "device = 'cuda' if torch.cuda.is_available() else 'cpu'\n",
        "\n",
        "state_dicts = [] # list containing model weight\n",
        "for weight_file in glob.glob('/content/ensemble/*'):\n",
        "  state_dicts.append(torch.load(weight_file, map_location=device))\n"
      ]
    },
    {
      "cell_type": "code",
      "execution_count": 105,
      "metadata": {
        "id": "UuaYz28cLq_Q"
      },
      "outputs": [],
      "source": [
        "def get_model(state_dicts, alphal):\n",
        "  model = cnn1Dmodel(input_features=1, out_features=1,num_labels=2,k_size= 2,stride= 2)\n",
        "  sd = {k : state_dicts[0][k].clone() * alphal[0] for k in state_dicts[0].keys()}\n",
        "  for i in range(1, len(state_dicts)):\n",
        "      for k in state_dicts[i].keys():\n",
        "          sd[k] = sd[k] + state_dicts[i][k].clone() * alphal[i]\n",
        "  model.load_state_dict(sd)\n",
        "  model = model.to(device)\n",
        "  return model"
      ]
    },
    {
      "cell_type": "code",
      "execution_count": 106,
      "metadata": {
        "id": "xH1eSraEL7JX"
      },
      "outputs": [],
      "source": [
        "# get validation result\n",
        "val_results = []\n",
        "for weight_file in glob.glob('/content/ensemble/*'):\n",
        "  val_results.append(evaluate(weight_file))"
      ]
    },
    {
      "cell_type": "code",
      "source": [
        "val_results2 = []\n",
        "for i in range(len(val_results)):\n",
        "  val_results2.append(val_results[i][1])"
      ],
      "metadata": {
        "id": "qZVeXRtZbypN"
      },
      "execution_count": 107,
      "outputs": []
    },
    {
      "cell_type": "code",
      "source": [
        "val_results2"
      ],
      "metadata": {
        "colab": {
          "base_uri": "https://localhost:8080/"
        },
        "id": "Dmj10wfdcjep",
        "outputId": "79a38bdf-87b4-4100-8745-72ddd85d6047"
      },
      "execution_count": 108,
      "outputs": [
        {
          "output_type": "execute_result",
          "data": {
            "text/plain": [
              "[0.7908496732026143,\n",
              " 0.7647058823529411,\n",
              " 0.7712418300653595,\n",
              " 0.7973856209150327,\n",
              " 0.7712418300653595]"
            ]
          },
          "metadata": {},
          "execution_count": 108
        }
      ]
    },
    {
      "cell_type": "code",
      "execution_count": 109,
      "metadata": {
        "colab": {
          "base_uri": "https://localhost:8080/",
          "height": 478
        },
        "id": "GaE7n8PMMLsO",
        "outputId": "f4c8e669-4623-4141-b269-be4290433ed1"
      },
      "outputs": [
        {
          "output_type": "display_data",
          "data": {
            "text/plain": [
              "<Figure size 640x480 with 1 Axes>"
            ],
            "image/png": "[encoded data removed]"
          },
          "metadata": {}
        }
      ],
      "source": [
        "names = [f'Model {i+1}' for i in range(len(state_dicts))]\n",
        "plt.bar(names, val_results2)\n",
        "plt.title(\"Test Accuracy By Model from each Kfold\")\n",
        "plt.ylim([0.6,1])\n",
        "plt.xticks(rotation=30, ha='right')\n",
        "plt.grid(True)\n",
        "plt.show()\n"
      ]
    },
    {
      "cell_type": "markdown",
      "metadata": {
        "id": "txzQfPiaPJ5L"
      },
      "source": [
        "# Greedy Soup ⚓"
      ]
    },
    {
      "cell_type": "markdown",
      "metadata": {
        "id": "LEbqpzYOQavW"
      },
      "source": [
        "![greedysoup.png](data:image/png;base64,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)"
      ]
    },
    {
      "cell_type": "code",
      "execution_count": 110,
      "metadata": {
        "colab": {
          "base_uri": "https://localhost:8080/"
        },
        "id": "bcC6xSrhvN7W",
        "outputId": "79c783cf-aaae-49ff-c47c-557b51fc28d8"
      },
      "outputs": [
        {
          "output_type": "stream",
          "name": "stdout",
          "text": [
            "Models [3, 0] got 65.359477124183% on validation.\n",
            "Models [3, 2] got 64.05228758169935% on validation.\n",
            "Models [3, 4] got 65.359477124183% on validation.\n",
            "Models [3, 1] got 65.359477124183% on validation.\n"
          ]
        }
      ],
      "source": [
        "ranked_candidates = [i for i in range(len(state_dicts))]\n",
        "ranked_candidates.sort(key=lambda x: -val_results[x][1])\n",
        "current_best = val_results[ranked_candidates[0]][1]\n",
        "best_ingredients = ranked_candidates[:1]\n",
        "for i in range(1, len(state_dicts)):\n",
        "  # add current index to the ingredients\n",
        "  ingredient_indices = best_ingredients + [ranked_candidates[i]]\n",
        "  alphal = [0 for i in range(len(state_dicts))]\n",
        "  for j in ingredient_indices:\n",
        "    alphal[j] = 1 / len(ingredient_indices)\n",
        "\n",
        "  # benchmark and conditionally append\n",
        "  model = get_model(state_dicts, alphal)\n",
        "  current = test(model)\n",
        "  print(f'Models {ingredient_indices} got {current*100}% on validation.')\n",
        "  if current > current_best:\n",
        "    current_best = current\n",
        "    best_ingredients = ingredient_indices"
      ]
    },
    {
      "cell_type": "code",
      "execution_count": 111,
      "metadata": {
        "colab": {
          "base_uri": "https://localhost:8080/"
        },
        "id": "kntPzpS3Od6x",
        "outputId": "46dedf5a-f011-4d1c-d7ce-dd123efbe6c8"
      },
      "outputs": [
        {
          "output_type": "stream",
          "name": "stdout",
          "text": [
            "[0.7908496732026143, 0.7647058823529411, 0.7712418300653595, 0.7973856209150327, 0.7712418300653595, 0.7973856209150327]\n"
          ]
        }
      ],
      "source": [
        "# implementation of model soup\n",
        "alphal = [0 for i in range(len(state_dicts))]\n",
        "for j in best_ingredients:\n",
        "  alphal[j] = 1 / len(best_ingredients)\n",
        "model = get_model(state_dicts, alphal)\n",
        "\n",
        "val_results.append(test(model))\n",
        "val_results2.append(test(model))\n",
        "# for i in range(len(val_results)):\n",
        "#   print(val_results[i][1])\n",
        "print(val_results2)"
      ]
    },
    {
      "cell_type": "code",
      "execution_count": 112,
      "metadata": {
        "colab": {
          "base_uri": "https://localhost:8080/",
          "height": 495
        },
        "id": "if9FncguO_HR",
        "outputId": "e74d44eb-9903-4bcd-b42d-7092295b4940"
      },
      "outputs": [
        {
          "output_type": "display_data",
          "data": {
            "text/plain": [
              "<Figure size 640x480 with 1 Axes>"
            ],
            "image/png": "[encoded data removed]"
          },
          "metadata": {}
        }
      ],
      "source": [
        "names.append(\"Greedy Soup\")\n",
        "plt.bar(names, val_results2)\n",
        "plt.title(\"Test Accuracy By Model (after Model Soup)\")\n",
        "plt.ylim([0.6,1])\n",
        "plt.xticks(rotation=30, ha='right')\n",
        "plt.grid(True)\n",
        "plt.show()"
      ]
    },
    {
      "cell_type": "code",
      "execution_count": null,
      "metadata": {
        "id": "b75M3bslPud3"
      },
      "outputs": [],
      "source": []
    }
  ],
  "metadata": {
    "colab": {
      "collapsed_sections": [
        "xCkt8mpXuV7s",
        "XuZkvagpsn0Z",
        "ivhbe9h3uLNX",
        "iYh1SJ-ihi6Q",
        "xwmhbeYgtVjD",
        "ptRxeIlNlohf",
        "7fCP-v9qoh3Z",
        "2rZckN3cpSWK",
        "Vu4Zk4WkpWQ1"
      ],
      "provenance": []
    },
    "kernelspec": {
      "display_name": "Python 3",
      "name": "python3"
    },
    "language_info": {
      "name": "python",
      "version": "3.8.9"
    },
    "vscode": {
      "interpreter": {
        "hash": "31f2aee4e71d21fbe5cf8b01ff0e069b9275f58929596ceb00d14d90e3e16cd6"
      }
    },
    "widgets": {
      "application/vnd.jupyter.widget-state+json": {
        "c0914e2e23124611aed2b677ae4f2e69": {
          "model_module": "@jupyter-widgets/controls",
          "model_name": "HBoxModel",
          "model_module_version": "1.5.0",
          "state": {
            "_dom_classes": [],
            "_model_module": "@jupyter-widgets/controls",
            "_model_module_version": "1.5.0",
            "_model_name": "HBoxModel",
            "_view_count": null,
            "_view_module": "@jupyter-widgets/controls",
            "_view_module_version": "1.5.0",
            "_view_name": "HBoxView",
            "box_style": "",
            "children": [
              "IPY_MODEL_2c9848796a2a4000926db1703af98968",
              "IPY_MODEL_c4480a002c864112b3de43eaf6f6a0d6",
              "IPY_MODEL_860eac8456284f9bbd70c9151568bb04"
            ],
            "layout": "IPY_MODEL_9ac701d303aa4adaa0aa011b6144172c"
          }
        },
        "2c9848796a2a4000926db1703af98968": {
          "model_module": "@jupyter-widgets/controls",
          "model_name": "HTMLModel",
          "model_module_version": "1.5.0",
          "state": {
            "_dom_classes": [],
            "_model_module": "@jupyter-widgets/controls",
            "_model_module_version": "1.5.0",
            "_model_name": "HTMLModel",
            "_view_count": null,
            "_view_module": "@jupyter-widgets/controls",
            "_view_module_version": "1.5.0",
            "_view_name": "HTMLView",
            "description": "",
            "description_tooltip": null,
            "layout": "IPY_MODEL_c22f5eb192324adcaeaa15be04608ba9",
            "placeholder": "​",
            "style": "IPY_MODEL_e2a3094f469348d9ac8140ac65e442e5",
            "value": "training the model ...: 100%"
          }
        },
        "c4480a002c864112b3de43eaf6f6a0d6": {
          "model_module": "@jupyter-widgets/controls",
          "model_name": "FloatProgressModel",
          "model_module_version": "1.5.0",
          "state": {
            "_dom_classes": [],
            "_model_module": "@jupyter-widgets/controls",
            "_model_module_version": "1.5.0",
            "_model_name": "FloatProgressModel",
            "_view_count": null,
            "_view_module": "@jupyter-widgets/controls",
            "_view_module_version": "1.5.0",
            "_view_name": "ProgressView",
            "bar_style": "success",
            "description": "",
            "description_tooltip": null,
            "layout": "IPY_MODEL_cf1406933dc947cf87af173b35ed7b85",
            "max": 300,
            "min": 0,
            "orientation": "horizontal",
            "style": "IPY_MODEL_4b515d10062f4559bd3805ce424f0ada",
            "value": 300
          }
        },
        "860eac8456284f9bbd70c9151568bb04": {
          "model_module": "@jupyter-widgets/controls",
          "model_name": "HTMLModel",
          "model_module_version": "1.5.0",
          "state": {
            "_dom_classes": [],
            "_model_module": "@jupyter-widgets/controls",
            "_model_module_version": "1.5.0",
            "_model_name": "HTMLModel",
            "_view_count": null,
            "_view_module": "@jupyter-widgets/controls",
            "_view_module_version": "1.5.0",
            "_view_name": "HTMLView",
            "description": "",
            "description_tooltip": null,
            "layout": "IPY_MODEL_66bb77f011114cc681c99f9ab65e757f",
            "placeholder": "​",
            "style": "IPY_MODEL_634fe9df647f4d6b8d552fed89e88b5b",
            "value": " 300/300 [01:27&lt;00:00,  3.31it/s]"
          }
        },
        "9ac701d303aa4adaa0aa011b6144172c": {
          "model_module": "@jupyter-widgets/base",
          "model_name": "LayoutModel",
          "model_module_version": "1.2.0",
          "state": {
            "_model_module": "@jupyter-widgets/base",
            "_model_module_version": "1.2.0",
            "_model_name": "LayoutModel",
            "_view_count": null,
            "_view_module": "@jupyter-widgets/base",
            "_view_module_version": "1.2.0",
            "_view_name": "LayoutView",
            "align_content": null,
            "align_items": null,
            "align_self": null,
            "border": null,
            "bottom": null,
            "display": null,
            "flex": null,
            "flex_flow": null,
            "grid_area": null,
            "grid_auto_columns": null,
            "grid_auto_flow": null,
            "grid_auto_rows": null,
            "grid_column": null,
            "grid_gap": null,
            "grid_row": null,
            "grid_template_areas": null,
            "grid_template_columns": null,
            "grid_template_rows": null,
            "height": null,
            "justify_content": null,
            "justify_items": null,
            "left": null,
            "margin": null,
            "max_height": null,
            "max_width": null,
            "min_height": null,
            "min_width": null,
            "object_fit": null,
            "object_position": null,
            "order": null,
            "overflow": null,
            "overflow_x": null,
            "overflow_y": null,
            "padding": null,
            "right": null,
            "top": null,
            "visibility": null,
            "width": null
          }
        },
        "c22f5eb192324adcaeaa15be04608ba9": {
          "model_module": "@jupyter-widgets/base",
          "model_name": "LayoutModel",
          "model_module_version": "1.2.0",
          "state": {
            "_model_module": "@jupyter-widgets/base",
            "_model_module_version": "1.2.0",
            "_model_name": "LayoutModel",
            "_view_count": null,
            "_view_module": "@jupyter-widgets/base",
            "_view_module_version": "1.2.0",
            "_view_name": "LayoutView",
            "align_content": null,
            "align_items": null,
            "align_self": null,
            "border": null,
            "bottom": null,
            "display": null,
            "flex": null,
            "flex_flow": null,
            "grid_area": null,
            "grid_auto_columns": null,
            "grid_auto_flow": null,
            "grid_auto_rows": null,
            "grid_column": null,
            "grid_gap": null,
            "grid_row": null,
            "grid_template_areas": null,
            "grid_template_columns": null,
            "grid_template_rows": null,
            "height": null,
            "justify_content": null,
            "justify_items": null,
            "left": null,
            "margin": null,
            "max_height": null,
            "max_width": null,
            "min_height": null,
            "min_width": null,
            "object_fit": null,
            "object_position": null,
            "order": null,
            "overflow": null,
            "overflow_x": null,
            "overflow_y": null,
            "padding": null,
            "right": null,
            "top": null,
            "visibility": null,
            "width": null
          }
        },
        "e2a3094f469348d9ac8140ac65e442e5": {
          "model_module": "@jupyter-widgets/controls",
          "model_name": "DescriptionStyleModel",
          "model_module_version": "1.5.0",
          "state": {
            "_model_module": "@jupyter-widgets/controls",
            "_model_module_version": "1.5.0",
            "_model_name": "DescriptionStyleModel",
            "_view_count": null,
            "_view_module": "@jupyter-widgets/base",
            "_view_module_version": "1.2.0",
            "_view_name": "StyleView",
            "description_width": ""
          }
        },
        "cf1406933dc947cf87af173b35ed7b85": {
          "model_module": "@jupyter-widgets/base",
          "model_name": "LayoutModel",
          "model_module_version": "1.2.0",
          "state": {
            "_model_module": "@jupyter-widgets/base",
            "_model_module_version": "1.2.0",
            "_model_name": "LayoutModel",
            "_view_count": null,
            "_view_module": "@jupyter-widgets/base",
            "_view_module_version": "1.2.0",
            "_view_name": "LayoutView",
            "align_content": null,
            "align_items": null,
            "align_self": null,
            "border": null,
            "bottom": null,
            "display": null,
            "flex": null,
            "flex_flow": null,
            "grid_area": null,
            "grid_auto_columns": null,
            "grid_auto_flow": null,
            "grid_auto_rows": null,
            "grid_column": null,
            "grid_gap": null,
            "grid_row": null,
            "grid_template_areas": null,
            "grid_template_columns": null,
            "grid_template_rows": null,
            "height": null,
            "justify_content": null,
            "justify_items": null,
            "left": null,
            "margin": null,
            "max_height": null,
            "max_width": null,
            "min_height": null,
            "min_width": null,
            "object_fit": null,
            "object_position": null,
            "order": null,
            "overflow": null,
            "overflow_x": null,
            "overflow_y": null,
            "padding": null,
            "right": null,
            "top": null,
            "visibility": null,
            "width": null
          }
        },
        "4b515d10062f4559bd3805ce424f0ada": {
          "model_module": "@jupyter-widgets/controls",
          "model_name": "ProgressStyleModel",
          "model_module_version": "1.5.0",
          "state": {
            "_model_module": "@jupyter-widgets/controls",
            "_model_module_version": "1.5.0",
            "_model_name": "ProgressStyleModel",
            "_view_count": null,
            "_view_module": "@jupyter-widgets/base",
            "_view_module_version": "1.2.0",
            "_view_name": "StyleView",
            "bar_color": null,
            "description_width": ""
          }
        },
        "66bb77f011114cc681c99f9ab65e757f": {
          "model_module": "@jupyter-widgets/base",
          "model_name": "LayoutModel",
          "model_module_version": "1.2.0",
          "state": {
            "_model_module": "@jupyter-widgets/base",
            "_model_module_version": "1.2.0",
            "_model_name": "LayoutModel",
            "_view_count": null,
            "_view_module": "@jupyter-widgets/base",
            "_view_module_version": "1.2.0",
            "_view_name": "LayoutView",
            "align_content": null,
            "align_items": null,
            "align_self": null,
            "border": null,
            "bottom": null,
            "display": null,
            "flex": null,
            "flex_flow": null,
            "grid_area": null,
            "grid_auto_columns": null,
            "grid_auto_flow": null,
            "grid_auto_rows": null,
            "grid_column": null,
            "grid_gap": null,
            "grid_row": null,
            "grid_template_areas": null,
            "grid_template_columns": null,
            "grid_template_rows": null,
            "height": null,
            "justify_content": null,
            "justify_items": null,
            "left": null,
            "margin": null,
            "max_height": null,
            "max_width": null,
            "min_height": null,
            "min_width": null,
            "object_fit": null,
            "object_position": null,
            "order": null,
            "overflow": null,
            "overflow_x": null,
            "overflow_y": null,
            "padding": null,
            "right": null,
            "top": null,
            "visibility": null,
            "width": null
          }
        },
        "634fe9df647f4d6b8d552fed89e88b5b": {
          "model_module": "@jupyter-widgets/controls",
          "model_name": "DescriptionStyleModel",
          "model_module_version": "1.5.0",
          "state": {
            "_model_module": "@jupyter-widgets/controls",
            "_model_module_version": "1.5.0",
            "_model_name": "DescriptionStyleModel",
            "_view_count": null,
            "_view_module": "@jupyter-widgets/base",
            "_view_module_version": "1.2.0",
            "_view_name": "StyleView",
            "description_width": ""
          }
        },
        "51f043f0971e4122ab1d67781836f0a0": {
          "model_module": "@jupyter-widgets/controls",
          "model_name": "HBoxModel",
          "model_module_version": "1.5.0",
          "state": {
            "_dom_classes": [],
            "_model_module": "@jupyter-widgets/controls",
            "_model_module_version": "1.5.0",
            "_model_name": "HBoxModel",
            "_view_count": null,
            "_view_module": "@jupyter-widgets/controls",
            "_view_module_version": "1.5.0",
            "_view_name": "HBoxView",
            "box_style": "",
            "children": [
              "IPY_MODEL_0d68a37d53354dd7a3160b20f9c18174",
              "IPY_MODEL_53e2959641f6498197f657bcc6164a3e",
              "IPY_MODEL_ec10eba3b450459c9a57142f9a8c4503"
            ],
            "layout": "IPY_MODEL_2002d7cf994149dc9300768621084f77"
          }
        },
        "0d68a37d53354dd7a3160b20f9c18174": {
          "model_module": "@jupyter-widgets/controls",
          "model_name": "HTMLModel",
          "model_module_version": "1.5.0",
          "state": {
            "_dom_classes": [],
            "_model_module": "@jupyter-widgets/controls",
            "_model_module_version": "1.5.0",
            "_model_name": "HTMLModel",
            "_view_count": null,
            "_view_module": "@jupyter-widgets/controls",
            "_view_module_version": "1.5.0",
            "_view_name": "HTMLView",
            "description": "",
            "description_tooltip": null,
            "layout": "IPY_MODEL_4fb616d9ee914371a0f06c67a95eb5e1",
            "placeholder": "​",
            "style": "IPY_MODEL_10d75714df1743a3bbd1b26f8389a4fe",
            "value": "training the model ...: 100%"
          }
        },
        "53e2959641f6498197f657bcc6164a3e": {
          "model_module": "@jupyter-widgets/controls",
          "model_name": "FloatProgressModel",
          "model_module_version": "1.5.0",
          "state": {
            "_dom_classes": [],
            "_model_module": "@jupyter-widgets/controls",
            "_model_module_version": "1.5.0",
            "_model_name": "FloatProgressModel",
            "_view_count": null,
            "_view_module": "@jupyter-widgets/controls",
            "_view_module_version": "1.5.0",
            "_view_name": "ProgressView",
            "bar_style": "success",
            "description": "",
            "description_tooltip": null,
            "layout": "IPY_MODEL_8327099e29dc413aac88ac317cf6d748",
            "max": 300,
            "min": 0,
            "orientation": "horizontal",
            "style": "IPY_MODEL_e6a204557c23431cbcf4eabdae5a884e",
            "value": 300
          }
        },
        "ec10eba3b450459c9a57142f9a8c4503": {
          "model_module": "@jupyter-widgets/controls",
          "model_name": "HTMLModel",
          "model_module_version": "1.5.0",
          "state": {
            "_dom_classes": [],
            "_model_module": "@jupyter-widgets/controls",
            "_model_module_version": "1.5.0",
            "_model_name": "HTMLModel",
            "_view_count": null,
            "_view_module": "@jupyter-widgets/controls",
            "_view_module_version": "1.5.0",
            "_view_name": "HTMLView",
            "description": "",
            "description_tooltip": null,
            "layout": "IPY_MODEL_6a74505db714470ca12fac3ca886e354",
            "placeholder": "​",
            "style": "IPY_MODEL_91bc124b78a349298ffc060fabd84b1f",
            "value": " 300/300 [01:11&lt;00:00,  3.50it/s]"
          }
        },
        "2002d7cf994149dc9300768621084f77": {
          "model_module": "@jupyter-widgets/base",
          "model_name": "LayoutModel",
          "model_module_version": "1.2.0",
          "state": {
            "_model_module": "@jupyter-widgets/base",
            "_model_module_version": "1.2.0",
            "_model_name": "LayoutModel",
            "_view_count": null,
            "_view_module": "@jupyter-widgets/base",
            "_view_module_version": "1.2.0",
            "_view_name": "LayoutView",
            "align_content": null,
            "align_items": null,
            "align_self": null,
            "border": null,
            "bottom": null,
            "display": null,
            "flex": null,
            "flex_flow": null,
            "grid_area": null,
            "grid_auto_columns": null,
            "grid_auto_flow": null,
            "grid_auto_rows": null,
            "grid_column": null,
            "grid_gap": null,
            "grid_row": null,
            "grid_template_areas": null,
            "grid_template_columns": null,
            "grid_template_rows": null,
            "height": null,
            "justify_content": null,
            "justify_items": null,
            "left": null,
            "margin": null,
            "max_height": null,
            "max_width": null,
            "min_height": null,
            "min_width": null,
            "object_fit": null,
            "object_position": null,
            "order": null,
            "overflow": null,
            "overflow_x": null,
            "overflow_y": null,
            "padding": null,
            "right": null,
            "top": null,
            "visibility": null,
            "width": null
          }
        },
        "4fb616d9ee914371a0f06c67a95eb5e1": {
          "model_module": "@jupyter-widgets/base",
          "model_name": "LayoutModel",
          "model_module_version": "1.2.0",
          "state": {
            "_model_module": "@jupyter-widgets/base",
            "_model_module_version": "1.2.0",
            "_model_name": "LayoutModel",
            "_view_count": null,
            "_view_module": "@jupyter-widgets/base",
            "_view_module_version": "1.2.0",
            "_view_name": "LayoutView",
            "align_content": null,
            "align_items": null,
            "align_self": null,
            "border": null,
            "bottom": null,
            "display": null,
            "flex": null,
            "flex_flow": null,
            "grid_area": null,
            "grid_auto_columns": null,
            "grid_auto_flow": null,
            "grid_auto_rows": null,
            "grid_column": null,
            "grid_gap": null,
            "grid_row": null,
            "grid_template_areas": null,
            "grid_template_columns": null,
            "grid_template_rows": null,
            "height": null,
            "justify_content": null,
            "justify_items": null,
            "left": null,
            "margin": null,
            "max_height": null,
            "max_width": null,
            "min_height": null,
            "min_width": null,
            "object_fit": null,
            "object_position": null,
            "order": null,
            "overflow": null,
            "overflow_x": null,
            "overflow_y": null,
            "padding": null,
            "right": null,
            "top": null,
            "visibility": null,
            "width": null
          }
        },
        "10d75714df1743a3bbd1b26f8389a4fe": {
          "model_module": "@jupyter-widgets/controls",
          "model_name": "DescriptionStyleModel",
          "model_module_version": "1.5.0",
          "state": {
            "_model_module": "@jupyter-widgets/controls",
            "_model_module_version": "1.5.0",
            "_model_name": "DescriptionStyleModel",
            "_view_count": null,
            "_view_module": "@jupyter-widgets/base",
            "_view_module_version": "1.2.0",
            "_view_name": "StyleView",
            "description_width": ""
          }
        },
        "8327099e29dc413aac88ac317cf6d748": {
          "model_module": "@jupyter-widgets/base",
          "model_name": "LayoutModel",
          "model_module_version": "1.2.0",
          "state": {
            "_model_module": "@jupyter-widgets/base",
            "_model_module_version": "1.2.0",
            "_model_name": "LayoutModel",
            "_view_count": null,
            "_view_module": "@jupyter-widgets/base",
            "_view_module_version": "1.2.0",
            "_view_name": "LayoutView",
            "align_content": null,
            "align_items": null,
            "align_self": null,
            "border": null,
            "bottom": null,
            "display": null,
            "flex": null,
            "flex_flow": null,
            "grid_area": null,
            "grid_auto_columns": null,
            "grid_auto_flow": null,
            "grid_auto_rows": null,
            "grid_column": null,
            "grid_gap": null,
            "grid_row": null,
            "grid_template_areas": null,
            "grid_template_columns": null,
            "grid_template_rows": null,
            "height": null,
            "justify_content": null,
            "justify_items": null,
            "left": null,
            "margin": null,
            "max_height": null,
            "max_width": null,
            "min_height": null,
            "min_width": null,
            "object_fit": null,
            "object_position": null,
            "order": null,
            "overflow": null,
            "overflow_x": null,
            "overflow_y": null,
            "padding": null,
            "right": null,
            "top": null,
            "visibility": null,
            "width": null
          }
        },
        "e6a204557c23431cbcf4eabdae5a884e": {
          "model_module": "@jupyter-widgets/controls",
          "model_name": "ProgressStyleModel",
          "model_module_version": "1.5.0",
          "state": {
            "_model_module": "@jupyter-widgets/controls",
            "_model_module_version": "1.5.0",
            "_model_name": "ProgressStyleModel",
            "_view_count": null,
            "_view_module": "@jupyter-widgets/base",
            "_view_module_version": "1.2.0",
            "_view_name": "StyleView",
            "bar_color": null,
            "description_width": ""
          }
        },
        "6a74505db714470ca12fac3ca886e354": {
          "model_module": "@jupyter-widgets/base",
          "model_name": "LayoutModel",
          "model_module_version": "1.2.0",
          "state": {
            "_model_module": "@jupyter-widgets/base",
            "_model_module_version": "1.2.0",
            "_model_name": "LayoutModel",
            "_view_count": null,
            "_view_module": "@jupyter-widgets/base",
            "_view_module_version": "1.2.0",
            "_view_name": "LayoutView",
            "align_content": null,
            "align_items": null,
            "align_self": null,
            "border": null,
            "bottom": null,
            "display": null,
            "flex": null,
            "flex_flow": null,
            "grid_area": null,
            "grid_auto_columns": null,
            "grid_auto_flow": null,
            "grid_auto_rows": null,
            "grid_column": null,
            "grid_gap": null,
            "grid_row": null,
            "grid_template_areas": null,
            "grid_template_columns": null,
            "grid_template_rows": null,
            "height": null,
            "justify_content": null,
            "justify_items": null,
            "left": null,
            "margin": null,
            "max_height": null,
            "max_width": null,
            "min_height": null,
            "min_width": null,
            "object_fit": null,
            "object_position": null,
            "order": null,
            "overflow": null,
            "overflow_x": null,
            "overflow_y": null,
            "padding": null,
            "right": null,
            "top": null,
            "visibility": null,
            "width": null
          }
        },
        "91bc124b78a349298ffc060fabd84b1f": {
          "model_module": "@jupyter-widgets/controls",
          "model_name": "DescriptionStyleModel",
          "model_module_version": "1.5.0",
          "state": {
            "_model_module": "@jupyter-widgets/controls",
            "_model_module_version": "1.5.0",
            "_model_name": "DescriptionStyleModel",
            "_view_count": null,
            "_view_module": "@jupyter-widgets/base",
            "_view_module_version": "1.2.0",
            "_view_name": "StyleView",
            "description_width": ""
          }
        },
        "88af6a41d8234475b50ce016c1dca6f1": {
          "model_module": "@jupyter-widgets/controls",
          "model_name": "HBoxModel",
          "model_module_version": "1.5.0",
          "state": {
            "_dom_classes": [],
            "_model_module": "@jupyter-widgets/controls",
            "_model_module_version": "1.5.0",
            "_model_name": "HBoxModel",
            "_view_count": null,
            "_view_module": "@jupyter-widgets/controls",
            "_view_module_version": "1.5.0",
            "_view_name": "HBoxView",
            "box_style": "",
            "children": [
              "IPY_MODEL_9a95d60ead084465b5eb236f3dd976b4",
              "IPY_MODEL_c5fb1cab9acd422d9f308551d029af8f",
              "IPY_MODEL_8e83b3a793bf48b8805ed4f2cac71e23"
            ],
            "layout": "IPY_MODEL_d5557e7998c84e9183d4db92f06f7f41"
          }
        },
        "9a95d60ead084465b5eb236f3dd976b4": {
          "model_module": "@jupyter-widgets/controls",
          "model_name": "HTMLModel",
          "model_module_version": "1.5.0",
          "state": {
            "_dom_classes": [],
            "_model_module": "@jupyter-widgets/controls",
            "_model_module_version": "1.5.0",
            "_model_name": "HTMLModel",
            "_view_count": null,
            "_view_module": "@jupyter-widgets/controls",
            "_view_module_version": "1.5.0",
            "_view_name": "HTMLView",
            "description": "",
            "description_tooltip": null,
            "layout": "IPY_MODEL_898e5aea6595421bb7b9633f3ba769b9",
            "placeholder": "​",
            "style": "IPY_MODEL_2353755d14d14662b237495ff3c42e67",
            "value": "training the model at fold1: 100%"
          }
        },
        "c5fb1cab9acd422d9f308551d029af8f": {
          "model_module": "@jupyter-widgets/controls",
          "model_name": "FloatProgressModel",
          "model_module_version": "1.5.0",
          "state": {
            "_dom_classes": [],
            "_model_module": "@jupyter-widgets/controls",
            "_model_module_version": "1.5.0",
            "_model_name": "FloatProgressModel",
            "_view_count": null,
            "_view_module": "@jupyter-widgets/controls",
            "_view_module_version": "1.5.0",
            "_view_name": "ProgressView",
            "bar_style": "success",
            "description": "",
            "description_tooltip": null,
            "layout": "IPY_MODEL_6de5a5417c5145ada6177a79eee08fb7",
            "max": 300,
            "min": 0,
            "orientation": "horizontal",
            "style": "IPY_MODEL_be327a78f3a2424c90328547851aab36",
            "value": 300
          }
        },
        "8e83b3a793bf48b8805ed4f2cac71e23": {
          "model_module": "@jupyter-widgets/controls",
          "model_name": "HTMLModel",
          "model_module_version": "1.5.0",
          "state": {
            "_dom_classes": [],
            "_model_module": "@jupyter-widgets/controls",
            "_model_module_version": "1.5.0",
            "_model_name": "HTMLModel",
            "_view_count": null,
            "_view_module": "@jupyter-widgets/controls",
            "_view_module_version": "1.5.0",
            "_view_name": "HTMLView",
            "description": "",
            "description_tooltip": null,
            "layout": "IPY_MODEL_1c03a53596e44429a155578f89b8983c",
            "placeholder": "​",
            "style": "IPY_MODEL_13990d1de8a2435c8071636d40438de2",
            "value": " 300/300 [01:12&lt;00:00,  5.20it/s]"
          }
        },
        "d5557e7998c84e9183d4db92f06f7f41": {
          "model_module": "@jupyter-widgets/base",
          "model_name": "LayoutModel",
          "model_module_version": "1.2.0",
          "state": {
            "_model_module": "@jupyter-widgets/base",
            "_model_module_version": "1.2.0",
            "_model_name": "LayoutModel",
            "_view_count": null,
            "_view_module": "@jupyter-widgets/base",
            "_view_module_version": "1.2.0",
            "_view_name": "LayoutView",
            "align_content": null,
            "align_items": null,
            "align_self": null,
            "border": null,
            "bottom": null,
            "display": null,
            "flex": null,
            "flex_flow": null,
            "grid_area": null,
            "grid_auto_columns": null,
            "grid_auto_flow": null,
            "grid_auto_rows": null,
            "grid_column": null,
            "grid_gap": null,
            "grid_row": null,
            "grid_template_areas": null,
            "grid_template_columns": null,
            "grid_template_rows": null,
            "height": null,
            "justify_content": null,
            "justify_items": null,
            "left": null,
            "margin": null,
            "max_height": null,
            "max_width": null,
            "min_height": null,
            "min_width": null,
            "object_fit": null,
            "object_position": null,
            "order": null,
            "overflow": null,
            "overflow_x": null,
            "overflow_y": null,
            "padding": null,
            "right": null,
            "top": null,
            "visibility": null,
            "width": null
          }
        },
        "898e5aea6595421bb7b9633f3ba769b9": {
          "model_module": "@jupyter-widgets/base",
          "model_name": "LayoutModel",
          "model_module_version": "1.2.0",
          "state": {
            "_model_module": "@jupyter-widgets/base",
            "_model_module_version": "1.2.0",
            "_model_name": "LayoutModel",
            "_view_count": null,
            "_view_module": "@jupyter-widgets/base",
            "_view_module_version": "1.2.0",
            "_view_name": "LayoutView",
            "align_content": null,
            "align_items": null,
            "align_self": null,
            "border": null,
            "bottom": null,
            "display": null,
            "flex": null,
            "flex_flow": null,
            "grid_area": null,
            "grid_auto_columns": null,
            "grid_auto_flow": null,
            "grid_auto_rows": null,
            "grid_column": null,
            "grid_gap": null,
            "grid_row": null,
            "grid_template_areas": null,
            "grid_template_columns": null,
            "grid_template_rows": null,
            "height": null,
            "justify_content": null,
            "justify_items": null,
            "left": null,
            "margin": null,
            "max_height": null,
            "max_width": null,
            "min_height": null,
            "min_width": null,
            "object_fit": null,
            "object_position": null,
            "order": null,
            "overflow": null,
            "overflow_x": null,
            "overflow_y": null,
            "padding": null,
            "right": null,
            "top": null,
            "visibility": null,
            "width": null
          }
        },
        "2353755d14d14662b237495ff3c42e67": {
          "model_module": "@jupyter-widgets/controls",
          "model_name": "DescriptionStyleModel",
          "model_module_version": "1.5.0",
          "state": {
            "_model_module": "@jupyter-widgets/controls",
            "_model_module_version": "1.5.0",
            "_model_name": "DescriptionStyleModel",
            "_view_count": null,
            "_view_module": "@jupyter-widgets/base",
            "_view_module_version": "1.2.0",
            "_view_name": "StyleView",
            "description_width": ""
          }
        },
        "6de5a5417c5145ada6177a79eee08fb7": {
          "model_module": "@jupyter-widgets/base",
          "model_name": "LayoutModel",
          "model_module_version": "1.2.0",
          "state": {
            "_model_module": "@jupyter-widgets/base",
            "_model_module_version": "1.2.0",
            "_model_name": "LayoutModel",
            "_view_count": null,
            "_view_module": "@jupyter-widgets/base",
            "_view_module_version": "1.2.0",
            "_view_name": "LayoutView",
            "align_content": null,
            "align_items": null,
            "align_self": null,
            "border": null,
            "bottom": null,
            "display": null,
            "flex": null,
            "flex_flow": null,
            "grid_area": null,
            "grid_auto_columns": null,
            "grid_auto_flow": null,
            "grid_auto_rows": null,
            "grid_column": null,
            "grid_gap": null,
            "grid_row": null,
            "grid_template_areas": null,
            "grid_template_columns": null,
            "grid_template_rows": null,
            "height": null,
            "justify_content": null,
            "justify_items": null,
            "left": null,
            "margin": null,
            "max_height": null,
            "max_width": null,
            "min_height": null,
            "min_width": null,
            "object_fit": null,
            "object_position": null,
            "order": null,
            "overflow": null,
            "overflow_x": null,
            "overflow_y": null,
            "padding": null,
            "right": null,
            "top": null,
            "visibility": null,
            "width": null
          }
        },
        "be327a78f3a2424c90328547851aab36": {
          "model_module": "@jupyter-widgets/controls",
          "model_name": "ProgressStyleModel",
          "model_module_version": "1.5.0",
          "state": {
            "_model_module": "@jupyter-widgets/controls",
            "_model_module_version": "1.5.0",
            "_model_name": "ProgressStyleModel",
            "_view_count": null,
            "_view_module": "@jupyter-widgets/base",
            "_view_module_version": "1.2.0",
            "_view_name": "StyleView",
            "bar_color": null,
            "description_width": ""
          }
        },
        "1c03a53596e44429a155578f89b8983c": {
          "model_module": "@jupyter-widgets/base",
          "model_name": "LayoutModel",
          "model_module_version": "1.2.0",
          "state": {
            "_model_module": "@jupyter-widgets/base",
            "_model_module_version": "1.2.0",
            "_model_name": "LayoutModel",
            "_view_count": null,
            "_view_module": "@jupyter-widgets/base",
            "_view_module_version": "1.2.0",
            "_view_name": "LayoutView",
            "align_content": null,
            "align_items": null,
            "align_self": null,
            "border": null,
            "bottom": null,
            "display": null,
            "flex": null,
            "flex_flow": null,
            "grid_area": null,
            "grid_auto_columns": null,
            "grid_auto_flow": null,
            "grid_auto_rows": null,
            "grid_column": null,
            "grid_gap": null,
            "grid_row": null,
            "grid_template_areas": null,
            "grid_template_columns": null,
            "grid_template_rows": null,
            "height": null,
            "justify_content": null,
            "justify_items": null,
            "left": null,
            "margin": null,
            "max_height": null,
            "max_width": null,
            "min_height": null,
            "min_width": null,
            "object_fit": null,
            "object_position": null,
            "order": null,
            "overflow": null,
            "overflow_x": null,
            "overflow_y": null,
            "padding": null,
            "right": null,
            "top": null,
            "visibility": null,
            "width": null
          }
        },
        "13990d1de8a2435c8071636d40438de2": {
          "model_module": "@jupyter-widgets/controls",
          "model_name": "DescriptionStyleModel",
          "model_module_version": "1.5.0",
          "state": {
            "_model_module": "@jupyter-widgets/controls",
            "_model_module_version": "1.5.0",
            "_model_name": "DescriptionStyleModel",
            "_view_count": null,
            "_view_module": "@jupyter-widgets/base",
            "_view_module_version": "1.2.0",
            "_view_name": "StyleView",
            "description_width": ""
          }
        },
        "e333637ec7ca4df0b3c722b2e6c1a34f": {
          "model_module": "@jupyter-widgets/controls",
          "model_name": "HBoxModel",
          "model_module_version": "1.5.0",
          "state": {
            "_dom_classes": [],
            "_model_module": "@jupyter-widgets/controls",
            "_model_module_version": "1.5.0",
            "_model_name": "HBoxModel",
            "_view_count": null,
            "_view_module": "@jupyter-widgets/controls",
            "_view_module_version": "1.5.0",
            "_view_name": "HBoxView",
            "box_style": "",
            "children": [
              "IPY_MODEL_7c09329c16904d7d804dfa8ab3206fb8",
              "IPY_MODEL_cd1d905006584ca8bbbac94896a309ff",
              "IPY_MODEL_d669ef8cf80e48afa66377f9e621bda5"
            ],
            "layout": "IPY_MODEL_36f4d45eeab1445ca8a868e881256d0c"
          }
        },
        "7c09329c16904d7d804dfa8ab3206fb8": {
          "model_module": "@jupyter-widgets/controls",
          "model_name": "HTMLModel",
          "model_module_version": "1.5.0",
          "state": {
            "_dom_classes": [],
            "_model_module": "@jupyter-widgets/controls",
            "_model_module_version": "1.5.0",
            "_model_name": "HTMLModel",
            "_view_count": null,
            "_view_module": "@jupyter-widgets/controls",
            "_view_module_version": "1.5.0",
            "_view_name": "HTMLView",
            "description": "",
            "description_tooltip": null,
            "layout": "IPY_MODEL_e1660b47cb244976b171831502a6136f",
            "placeholder": "​",
            "style": "IPY_MODEL_55e95919170e4fd3af9da25701e54e0a",
            "value": "training the model at fold2: 100%"
          }
        },
        "cd1d905006584ca8bbbac94896a309ff": {
          "model_module": "@jupyter-widgets/controls",
          "model_name": "FloatProgressModel",
          "model_module_version": "1.5.0",
          "state": {
            "_dom_classes": [],
            "_model_module": "@jupyter-widgets/controls",
            "_model_module_version": "1.5.0",
            "_model_name": "FloatProgressModel",
            "_view_count": null,
            "_view_module": "@jupyter-widgets/controls",
            "_view_module_version": "1.5.0",
            "_view_name": "ProgressView",
            "bar_style": "success",
            "description": "",
            "description_tooltip": null,
            "layout": "IPY_MODEL_d2b86a4fc501420d950c7f47b867707d",
            "max": 300,
            "min": 0,
            "orientation": "horizontal",
            "style": "IPY_MODEL_9bf7886672b6431ea09566d775ebb41f",
            "value": 300
          }
        },
        "d669ef8cf80e48afa66377f9e621bda5": {
          "model_module": "@jupyter-widgets/controls",
          "model_name": "HTMLModel",
          "model_module_version": "1.5.0",
          "state": {
            "_dom_classes": [],
            "_model_module": "@jupyter-widgets/controls",
            "_model_module_version": "1.5.0",
            "_model_name": "HTMLModel",
            "_view_count": null,
            "_view_module": "@jupyter-widgets/controls",
            "_view_module_version": "1.5.0",
            "_view_name": "HTMLView",
            "description": "",
            "description_tooltip": null,
            "layout": "IPY_MODEL_d2b694242ab940b1a4f13461c5e3ec88",
            "placeholder": "​",
            "style": "IPY_MODEL_e2599f9098ca4a58b9da47d685efe001",
            "value": " 300/300 [01:21&lt;00:00,  5.20it/s]"
          }
        },
        "36f4d45eeab1445ca8a868e881256d0c": {
          "model_module": "@jupyter-widgets/base",
          "model_name": "LayoutModel",
          "model_module_version": "1.2.0",
          "state": {
            "_model_module": "@jupyter-widgets/base",
            "_model_module_version": "1.2.0",
            "_model_name": "LayoutModel",
            "_view_count": null,
            "_view_module": "@jupyter-widgets/base",
            "_view_module_version": "1.2.0",
            "_view_name": "LayoutView",
            "align_content": null,
            "align_items": null,
            "align_self": null,
            "border": null,
            "bottom": null,
            "display": null,
            "flex": null,
            "flex_flow": null,
            "grid_area": null,
            "grid_auto_columns": null,
            "grid_auto_flow": null,
            "grid_auto_rows": null,
            "grid_column": null,
            "grid_gap": null,
            "grid_row": null,
            "grid_template_areas": null,
            "grid_template_columns": null,
            "grid_template_rows": null,
            "height": null,
            "justify_content": null,
            "justify_items": null,
            "left": null,
            "margin": null,
            "max_height": null,
            "max_width": null,
            "min_height": null,
            "min_width": null,
            "object_fit": null,
            "object_position": null,
            "order": null,
            "overflow": null,
            "overflow_x": null,
            "overflow_y": null,
            "padding": null,
            "right": null,
            "top": null,
            "visibility": null,
            "width": null
          }
        },
        "e1660b47cb244976b171831502a6136f": {
          "model_module": "@jupyter-widgets/base",
          "model_name": "LayoutModel",
          "model_module_version": "1.2.0",
          "state": {
            "_model_module": "@jupyter-widgets/base",
            "_model_module_version": "1.2.0",
            "_model_name": "LayoutModel",
            "_view_count": null,
            "_view_module": "@jupyter-widgets/base",
            "_view_module_version": "1.2.0",
            "_view_name": "LayoutView",
            "align_content": null,
            "align_items": null,
            "align_self": null,
            "border": null,
            "bottom": null,
            "display": null,
            "flex": null,
            "flex_flow": null,
            "grid_area": null,
            "grid_auto_columns": null,
            "grid_auto_flow": null,
            "grid_auto_rows": null,
            "grid_column": null,
            "grid_gap": null,
            "grid_row": null,
            "grid_template_areas": null,
            "grid_template_columns": null,
            "grid_template_rows": null,
            "height": null,
            "justify_content": null,
            "justify_items": null,
            "left": null,
            "margin": null,
            "max_height": null,
            "max_width": null,
            "min_height": null,
            "min_width": null,
            "object_fit": null,
            "object_position": null,
            "order": null,
            "overflow": null,
            "overflow_x": null,
            "overflow_y": null,
            "padding": null,
            "right": null,
            "top": null,
            "visibility": null,
            "width": null
          }
        },
        "55e95919170e4fd3af9da25701e54e0a": {
          "model_module": "@jupyter-widgets/controls",
          "model_name": "DescriptionStyleModel",
          "model_module_version": "1.5.0",
          "state": {
            "_model_module": "@jupyter-widgets/controls",
            "_model_module_version": "1.5.0",
            "_model_name": "DescriptionStyleModel",
            "_view_count": null,
            "_view_module": "@jupyter-widgets/base",
            "_view_module_version": "1.2.0",
            "_view_name": "StyleView",
            "description_width": ""
          }
        },
        "d2b86a4fc501420d950c7f47b867707d": {
          "model_module": "@jupyter-widgets/base",
          "model_name": "LayoutModel",
          "model_module_version": "1.2.0",
          "state": {
            "_model_module": "@jupyter-widgets/base",
            "_model_module_version": "1.2.0",
            "_model_name": "LayoutModel",
            "_view_count": null,
            "_view_module": "@jupyter-widgets/base",
            "_view_module_version": "1.2.0",
            "_view_name": "LayoutView",
            "align_content": null,
            "align_items": null,
            "align_self": null,
            "border": null,
            "bottom": null,
            "display": null,
            "flex": null,
            "flex_flow": null,
            "grid_area": null,
            "grid_auto_columns": null,
            "grid_auto_flow": null,
            "grid_auto_rows": null,
            "grid_column": null,
            "grid_gap": null,
            "grid_row": null,
            "grid_template_areas": null,
            "grid_template_columns": null,
            "grid_template_rows": null,
            "height": null,
            "justify_content": null,
            "justify_items": null,
            "left": null,
            "margin": null,
            "max_height": null,
            "max_width": null,
            "min_height": null,
            "min_width": null,
            "object_fit": null,
            "object_position": null,
            "order": null,
            "overflow": null,
            "overflow_x": null,
            "overflow_y": null,
            "padding": null,
            "right": null,
            "top": null,
            "visibility": null,
            "width": null
          }
        },
        "9bf7886672b6431ea09566d775ebb41f": {
          "model_module": "@jupyter-widgets/controls",
          "model_name": "ProgressStyleModel",
          "model_module_version": "1.5.0",
          "state": {
            "_model_module": "@jupyter-widgets/controls",
            "_model_module_version": "1.5.0",
            "_model_name": "ProgressStyleModel",
            "_view_count": null,
            "_view_module": "@jupyter-widgets/base",
            "_view_module_version": "1.2.0",
            "_view_name": "StyleView",
            "bar_color": null,
            "description_width": ""
          }
        },
        "d2b694242ab940b1a4f13461c5e3ec88": {
          "model_module": "@jupyter-widgets/base",
          "model_name": "LayoutModel",
          "model_module_version": "1.2.0",
          "state": {
            "_model_module": "@jupyter-widgets/base",
            "_model_module_version": "1.2.0",
            "_model_name": "LayoutModel",
            "_view_count": null,
            "_view_module": "@jupyter-widgets/base",
            "_view_module_version": "1.2.0",
            "_view_name": "LayoutView",
            "align_content": null,
            "align_items": null,
            "align_self": null,
            "border": null,
            "bottom": null,
            "display": null,
            "flex": null,
            "flex_flow": null,
            "grid_area": null,
            "grid_auto_columns": null,
            "grid_auto_flow": null,
            "grid_auto_rows": null,
            "grid_column": null,
            "grid_gap": null,
            "grid_row": null,
            "grid_template_areas": null,
            "grid_template_columns": null,
            "grid_template_rows": null,
            "height": null,
            "justify_content": null,
            "justify_items": null,
            "left": null,
            "margin": null,
            "max_height": null,
            "max_width": null,
            "min_height": null,
            "min_width": null,
            "object_fit": null,
            "object_position": null,
            "order": null,
            "overflow": null,
            "overflow_x": null,
            "overflow_y": null,
            "padding": null,
            "right": null,
            "top": null,
            "visibility": null,
            "width": null
          }
        },
        "e2599f9098ca4a58b9da47d685efe001": {
          "model_module": "@jupyter-widgets/controls",
          "model_name": "DescriptionStyleModel",
          "model_module_version": "1.5.0",
          "state": {
            "_model_module": "@jupyter-widgets/controls",
            "_model_module_version": "1.5.0",
            "_model_name": "DescriptionStyleModel",
            "_view_count": null,
            "_view_module": "@jupyter-widgets/base",
            "_view_module_version": "1.2.0",
            "_view_name": "StyleView",
            "description_width": ""
          }
        },
        "3babab10e327481c949e3fbcac676838": {
          "model_module": "@jupyter-widgets/controls",
          "model_name": "HBoxModel",
          "model_module_version": "1.5.0",
          "state": {
            "_dom_classes": [],
            "_model_module": "@jupyter-widgets/controls",
            "_model_module_version": "1.5.0",
            "_model_name": "HBoxModel",
            "_view_count": null,
            "_view_module": "@jupyter-widgets/controls",
            "_view_module_version": "1.5.0",
            "_view_name": "HBoxView",
            "box_style": "",
            "children": [
              "IPY_MODEL_5974222bec5a4ba39e837076eaa06840",
              "IPY_MODEL_7dc5ab0fd1354c9c96a822455de8f040",
              "IPY_MODEL_492ccad630ae416489c0dbc33a1958d3"
            ],
            "layout": "IPY_MODEL_293846290a6d4cd1a69c0788ff4ba96d"
          }
        },
        "5974222bec5a4ba39e837076eaa06840": {
          "model_module": "@jupyter-widgets/controls",
          "model_name": "HTMLModel",
          "model_module_version": "1.5.0",
          "state": {
            "_dom_classes": [],
            "_model_module": "@jupyter-widgets/controls",
            "_model_module_version": "1.5.0",
            "_model_name": "HTMLModel",
            "_view_count": null,
            "_view_module": "@jupyter-widgets/controls",
            "_view_module_version": "1.5.0",
            "_view_name": "HTMLView",
            "description": "",
            "description_tooltip": null,
            "layout": "IPY_MODEL_f4773a4c09494bbdb414d72d2bf77327",
            "placeholder": "​",
            "style": "IPY_MODEL_f89db5868a274f7d9ac5309eb1adbdd2",
            "value": "training the model at fold3: 100%"
          }
        },
        "7dc5ab0fd1354c9c96a822455de8f040": {
          "model_module": "@jupyter-widgets/controls",
          "model_name": "FloatProgressModel",
          "model_module_version": "1.5.0",
          "state": {
            "_dom_classes": [],
            "_model_module": "@jupyter-widgets/controls",
            "_model_module_version": "1.5.0",
            "_model_name": "FloatProgressModel",
            "_view_count": null,
            "_view_module": "@jupyter-widgets/controls",
            "_view_module_version": "1.5.0",
            "_view_name": "ProgressView",
            "bar_style": "success",
            "description": "",
            "description_tooltip": null,
            "layout": "IPY_MODEL_29ef50fb142f41abbf462b0891ce45e9",
            "max": 300,
            "min": 0,
            "orientation": "horizontal",
            "style": "IPY_MODEL_93e367efa2634f3b8f7a5552dea1e496",
            "value": 300
          }
        },
        "492ccad630ae416489c0dbc33a1958d3": {
          "model_module": "@jupyter-widgets/controls",
          "model_name": "HTMLModel",
          "model_module_version": "1.5.0",
          "state": {
            "_dom_classes": [],
            "_model_module": "@jupyter-widgets/controls",
            "_model_module_version": "1.5.0",
            "_model_name": "HTMLModel",
            "_view_count": null,
            "_view_module": "@jupyter-widgets/controls",
            "_view_module_version": "1.5.0",
            "_view_name": "HTMLView",
            "description": "",
            "description_tooltip": null,
            "layout": "IPY_MODEL_958e9cf93ae34c11a60e0517cbcfc1d0",
            "placeholder": "​",
            "style": "IPY_MODEL_3bbae6e1dca14ff9a1919f72d372af4c",
            "value": " 300/300 [01:05&lt;00:00,  4.06it/s]"
          }
        },
        "293846290a6d4cd1a69c0788ff4ba96d": {
          "model_module": "@jupyter-widgets/base",
          "model_name": "LayoutModel",
          "model_module_version": "1.2.0",
          "state": {
            "_model_module": "@jupyter-widgets/base",
            "_model_module_version": "1.2.0",
            "_model_name": "LayoutModel",
            "_view_count": null,
            "_view_module": "@jupyter-widgets/base",
            "_view_module_version": "1.2.0",
            "_view_name": "LayoutView",
            "align_content": null,
            "align_items": null,
            "align_self": null,
            "border": null,
            "bottom": null,
            "display": null,
            "flex": null,
            "flex_flow": null,
            "grid_area": null,
            "grid_auto_columns": null,
            "grid_auto_flow": null,
            "grid_auto_rows": null,
            "grid_column": null,
            "grid_gap": null,
            "grid_row": null,
            "grid_template_areas": null,
            "grid_template_columns": null,
            "grid_template_rows": null,
            "height": null,
            "justify_content": null,
            "justify_items": null,
            "left": null,
            "margin": null,
            "max_height": null,
            "max_width": null,
            "min_height": null,
            "min_width": null,
            "object_fit": null,
            "object_position": null,
            "order": null,
            "overflow": null,
            "overflow_x": null,
            "overflow_y": null,
            "padding": null,
            "right": null,
            "top": null,
            "visibility": null,
            "width": null
          }
        },
        "f4773a4c09494bbdb414d72d2bf77327": {
          "model_module": "@jupyter-widgets/base",
          "model_name": "LayoutModel",
          "model_module_version": "1.2.0",
          "state": {
            "_model_module": "@jupyter-widgets/base",
            "_model_module_version": "1.2.0",
            "_model_name": "LayoutModel",
            "_view_count": null,
            "_view_module": "@jupyter-widgets/base",
            "_view_module_version": "1.2.0",
            "_view_name": "LayoutView",
            "align_content": null,
            "align_items": null,
            "align_self": null,
            "border": null,
            "bottom": null,
            "display": null,
            "flex": null,
            "flex_flow": null,
            "grid_area": null,
            "grid_auto_columns": null,
            "grid_auto_flow": null,
            "grid_auto_rows": null,
            "grid_column": null,
            "grid_gap": null,
            "grid_row": null,
            "grid_template_areas": null,
            "grid_template_columns": null,
            "grid_template_rows": null,
            "height": null,
            "justify_content": null,
            "justify_items": null,
            "left": null,
            "margin": null,
            "max_height": null,
            "max_width": null,
            "min_height": null,
            "min_width": null,
            "object_fit": null,
            "object_position": null,
            "order": null,
            "overflow": null,
            "overflow_x": null,
            "overflow_y": null,
            "padding": null,
            "right": null,
            "top": null,
            "visibility": null,
            "width": null
          }
        },
        "f89db5868a274f7d9ac5309eb1adbdd2": {
          "model_module": "@jupyter-widgets/controls",
          "model_name": "DescriptionStyleModel",
          "model_module_version": "1.5.0",
          "state": {
            "_model_module": "@jupyter-widgets/controls",
            "_model_module_version": "1.5.0",
            "_model_name": "DescriptionStyleModel",
            "_view_count": null,
            "_view_module": "@jupyter-widgets/base",
            "_view_module_version": "1.2.0",
            "_view_name": "StyleView",
            "description_width": ""
          }
        },
        "29ef50fb142f41abbf462b0891ce45e9": {
          "model_module": "@jupyter-widgets/base",
          "model_name": "LayoutModel",
          "model_module_version": "1.2.0",
          "state": {
            "_model_module": "@jupyter-widgets/base",
            "_model_module_version": "1.2.0",
            "_model_name": "LayoutModel",
            "_view_count": null,
            "_view_module": "@jupyter-widgets/base",
            "_view_module_version": "1.2.0",
            "_view_name": "LayoutView",
            "align_content": null,
            "align_items": null,
            "align_self": null,
            "border": null,
            "bottom": null,
            "display": null,
            "flex": null,
            "flex_flow": null,
            "grid_area": null,
            "grid_auto_columns": null,
            "grid_auto_flow": null,
            "grid_auto_rows": null,
            "grid_column": null,
            "grid_gap": null,
            "grid_row": null,
            "grid_template_areas": null,
            "grid_template_columns": null,
            "grid_template_rows": null,
            "height": null,
            "justify_content": null,
            "justify_items": null,
            "left": null,
            "margin": null,
            "max_height": null,
            "max_width": null,
            "min_height": null,
            "min_width": null,
            "object_fit": null,
            "object_position": null,
            "order": null,
            "overflow": null,
            "overflow_x": null,
            "overflow_y": null,
            "padding": null,
            "right": null,
            "top": null,
            "visibility": null,
            "width": null
          }
        },
        "93e367efa2634f3b8f7a5552dea1e496": {
          "model_module": "@jupyter-widgets/controls",
          "model_name": "ProgressStyleModel",
          "model_module_version": "1.5.0",
          "state": {
            "_model_module": "@jupyter-widgets/controls",
            "_model_module_version": "1.5.0",
            "_model_name": "ProgressStyleModel",
            "_view_count": null,
            "_view_module": "@jupyter-widgets/base",
            "_view_module_version": "1.2.0",
            "_view_name": "StyleView",
            "bar_color": null,
            "description_width": ""
          }
        },
        "958e9cf93ae34c11a60e0517cbcfc1d0": {
          "model_module": "@jupyter-widgets/base",
          "model_name": "LayoutModel",
          "model_module_version": "1.2.0",
          "state": {
            "_model_module": "@jupyter-widgets/base",
            "_model_module_version": "1.2.0",
            "_model_name": "LayoutModel",
            "_view_count": null,
            "_view_module": "@jupyter-widgets/base",
            "_view_module_version": "1.2.0",
            "_view_name": "LayoutView",
            "align_content": null,
            "align_items": null,
            "align_self": null,
            "border": null,
            "bottom": null,
            "display": null,
            "flex": null,
            "flex_flow": null,
            "grid_area": null,
            "grid_auto_columns": null,
            "grid_auto_flow": null,
            "grid_auto_rows": null,
            "grid_column": null,
            "grid_gap": null,
            "grid_row": null,
            "grid_template_areas": null,
            "grid_template_columns": null,
            "grid_template_rows": null,
            "height": null,
            "justify_content": null,
            "justify_items": null,
            "left": null,
            "margin": null,
            "max_height": null,
            "max_width": null,
            "min_height": null,
            "min_width": null,
            "object_fit": null,
            "object_position": null,
            "order": null,
            "overflow": null,
            "overflow_x": null,
            "overflow_y": null,
            "padding": null,
            "right": null,
            "top": null,
            "visibility": null,
            "width": null
          }
        },
        "3bbae6e1dca14ff9a1919f72d372af4c": {
          "model_module": "@jupyter-widgets/controls",
          "model_name": "DescriptionStyleModel",
          "model_module_version": "1.5.0",
          "state": {
            "_model_module": "@jupyter-widgets/controls",
            "_model_module_version": "1.5.0",
            "_model_name": "DescriptionStyleModel",
            "_view_count": null,
            "_view_module": "@jupyter-widgets/base",
            "_view_module_version": "1.2.0",
            "_view_name": "StyleView",
            "description_width": ""
          }
        },
        "d48f37e3bd0a4974bc48e008a30000ba": {
          "model_module": "@jupyter-widgets/controls",
          "model_name": "HBoxModel",
          "model_module_version": "1.5.0",
          "state": {
            "_dom_classes": [],
            "_model_module": "@jupyter-widgets/controls",
            "_model_module_version": "1.5.0",
            "_model_name": "HBoxModel",
            "_view_count": null,
            "_view_module": "@jupyter-widgets/controls",
            "_view_module_version": "1.5.0",
            "_view_name": "HBoxView",
            "box_style": "",
            "children": [
              "IPY_MODEL_370b518d2fdc471fb9ac3c85281836ef",
              "IPY_MODEL_9e0690cc39654387a0b24a7528aab4da",
              "IPY_MODEL_3a29f02d7652412998e5ec8813fcf4a9"
            ],
            "layout": "IPY_MODEL_1a5d7a348b794403a96ce89c97104e5e"
          }
        },
        "370b518d2fdc471fb9ac3c85281836ef": {
          "model_module": "@jupyter-widgets/controls",
          "model_name": "HTMLModel",
          "model_module_version": "1.5.0",
          "state": {
            "_dom_classes": [],
            "_model_module": "@jupyter-widgets/controls",
            "_model_module_version": "1.5.0",
            "_model_name": "HTMLModel",
            "_view_count": null,
            "_view_module": "@jupyter-widgets/controls",
            "_view_module_version": "1.5.0",
            "_view_name": "HTMLView",
            "description": "",
            "description_tooltip": null,
            "layout": "IPY_MODEL_309e401547514d95810f4e2e2754b1d5",
            "placeholder": "​",
            "style": "IPY_MODEL_78cdadbf5f874a4c948cde7e7fee5021",
            "value": "training the model at fold4: 100%"
          }
        },
        "9e0690cc39654387a0b24a7528aab4da": {
          "model_module": "@jupyter-widgets/controls",
          "model_name": "FloatProgressModel",
          "model_module_version": "1.5.0",
          "state": {
            "_dom_classes": [],
            "_model_module": "@jupyter-widgets/controls",
            "_model_module_version": "1.5.0",
            "_model_name": "FloatProgressModel",
            "_view_count": null,
            "_view_module": "@jupyter-widgets/controls",
            "_view_module_version": "1.5.0",
            "_view_name": "ProgressView",
            "bar_style": "success",
            "description": "",
            "description_tooltip": null,
            "layout": "IPY_MODEL_a18fd21c04fa47b2a68666cb84a4aed1",
            "max": 300,
            "min": 0,
            "orientation": "horizontal",
            "style": "IPY_MODEL_4dc7f14cb60543a38c6c38076e731cdd",
            "value": 300
          }
        },
        "3a29f02d7652412998e5ec8813fcf4a9": {
          "model_module": "@jupyter-widgets/controls",
          "model_name": "HTMLModel",
          "model_module_version": "1.5.0",
          "state": {
            "_dom_classes": [],
            "_model_module": "@jupyter-widgets/controls",
            "_model_module_version": "1.5.0",
            "_model_name": "HTMLModel",
            "_view_count": null,
            "_view_module": "@jupyter-widgets/controls",
            "_view_module_version": "1.5.0",
            "_view_name": "HTMLView",
            "description": "",
            "description_tooltip": null,
            "layout": "IPY_MODEL_0bbb15d519b24b49842b896ec26cd89a",
            "placeholder": "​",
            "style": "IPY_MODEL_b9352d71530b482a84c16f107c80c486",
            "value": " 300/300 [01:08&lt;00:00,  5.44it/s]"
          }
        },
        "1a5d7a348b794403a96ce89c97104e5e": {
          "model_module": "@jupyter-widgets/base",
          "model_name": "LayoutModel",
          "model_module_version": "1.2.0",
          "state": {
            "_model_module": "@jupyter-widgets/base",
            "_model_module_version": "1.2.0",
            "_model_name": "LayoutModel",
            "_view_count": null,
            "_view_module": "@jupyter-widgets/base",
            "_view_module_version": "1.2.0",
            "_view_name": "LayoutView",
            "align_content": null,
            "align_items": null,
            "align_self": null,
            "border": null,
            "bottom": null,
            "display": null,
            "flex": null,
            "flex_flow": null,
            "grid_area": null,
            "grid_auto_columns": null,
            "grid_auto_flow": null,
            "grid_auto_rows": null,
            "grid_column": null,
            "grid_gap": null,
            "grid_row": null,
            "grid_template_areas": null,
            "grid_template_columns": null,
            "grid_template_rows": null,
            "height": null,
            "justify_content": null,
            "justify_items": null,
            "left": null,
            "margin": null,
            "max_height": null,
            "max_width": null,
            "min_height": null,
            "min_width": null,
            "object_fit": null,
            "object_position": null,
            "order": null,
            "overflow": null,
            "overflow_x": null,
            "overflow_y": null,
            "padding": null,
            "right": null,
            "top": null,
            "visibility": null,
            "width": null
          }
        },
        "309e401547514d95810f4e2e2754b1d5": {
          "model_module": "@jupyter-widgets/base",
          "model_name": "LayoutModel",
          "model_module_version": "1.2.0",
          "state": {
            "_model_module": "@jupyter-widgets/base",
            "_model_module_version": "1.2.0",
            "_model_name": "LayoutModel",
            "_view_count": null,
            "_view_module": "@jupyter-widgets/base",
            "_view_module_version": "1.2.0",
            "_view_name": "LayoutView",
            "align_content": null,
            "align_items": null,
            "align_self": null,
            "border": null,
            "bottom": null,
            "display": null,
            "flex": null,
            "flex_flow": null,
            "grid_area": null,
            "grid_auto_columns": null,
            "grid_auto_flow": null,
            "grid_auto_rows": null,
            "grid_column": null,
            "grid_gap": null,
            "grid_row": null,
            "grid_template_areas": null,
            "grid_template_columns": null,
            "grid_template_rows": null,
            "height": null,
            "justify_content": null,
            "justify_items": null,
            "left": null,
            "margin": null,
            "max_height": null,
            "max_width": null,
            "min_height": null,
            "min_width": null,
            "object_fit": null,
            "object_position": null,
            "order": null,
            "overflow": null,
            "overflow_x": null,
            "overflow_y": null,
            "padding": null,
            "right": null,
            "top": null,
            "visibility": null,
            "width": null
          }
        },
        "78cdadbf5f874a4c948cde7e7fee5021": {
          "model_module": "@jupyter-widgets/controls",
          "model_name": "DescriptionStyleModel",
          "model_module_version": "1.5.0",
          "state": {
            "_model_module": "@jupyter-widgets/controls",
            "_model_module_version": "1.5.0",
            "_model_name": "DescriptionStyleModel",
            "_view_count": null,
            "_view_module": "@jupyter-widgets/base",
            "_view_module_version": "1.2.0",
            "_view_name": "StyleView",
            "description_width": ""
          }
        },
        "a18fd21c04fa47b2a68666cb84a4aed1": {
          "model_module": "@jupyter-widgets/base",
          "model_name": "LayoutModel",
          "model_module_version": "1.2.0",
          "state": {
            "_model_module": "@jupyter-widgets/base",
            "_model_module_version": "1.2.0",
            "_model_name": "LayoutModel",
            "_view_count": null,
            "_view_module": "@jupyter-widgets/base",
            "_view_module_version": "1.2.0",
            "_view_name": "LayoutView",
            "align_content": null,
            "align_items": null,
            "align_self": null,
            "border": null,
            "bottom": null,
            "display": null,
            "flex": null,
            "flex_flow": null,
            "grid_area": null,
            "grid_auto_columns": null,
            "grid_auto_flow": null,
            "grid_auto_rows": null,
            "grid_column": null,
            "grid_gap": null,
            "grid_row": null,
            "grid_template_areas": null,
            "grid_template_columns": null,
            "grid_template_rows": null,
            "height": null,
            "justify_content": null,
            "justify_items": null,
            "left": null,
            "margin": null,
            "max_height": null,
            "max_width": null,
            "min_height": null,
            "min_width": null,
            "object_fit": null,
            "object_position": null,
            "order": null,
            "overflow": null,
            "overflow_x": null,
            "overflow_y": null,
            "padding": null,
            "right": null,
            "top": null,
            "visibility": null,
            "width": null
          }
        },
        "4dc7f14cb60543a38c6c38076e731cdd": {
          "model_module": "@jupyter-widgets/controls",
          "model_name": "ProgressStyleModel",
          "model_module_version": "1.5.0",
          "state": {
            "_model_module": "@jupyter-widgets/controls",
            "_model_module_version": "1.5.0",
            "_model_name": "ProgressStyleModel",
            "_view_count": null,
            "_view_module": "@jupyter-widgets/base",
            "_view_module_version": "1.2.0",
            "_view_name": "StyleView",
            "bar_color": null,
            "description_width": ""
          }
        },
        "0bbb15d519b24b49842b896ec26cd89a": {
          "model_module": "@jupyter-widgets/base",
          "model_name": "LayoutModel",
          "model_module_version": "1.2.0",
          "state": {
            "_model_module": "@jupyter-widgets/base",
            "_model_module_version": "1.2.0",
            "_model_name": "LayoutModel",
            "_view_count": null,
            "_view_module": "@jupyter-widgets/base",
            "_view_module_version": "1.2.0",
            "_view_name": "LayoutView",
            "align_content": null,
            "align_items": null,
            "align_self": null,
            "border": null,
            "bottom": null,
            "display": null,
            "flex": null,
            "flex_flow": null,
            "grid_area": null,
            "grid_auto_columns": null,
            "grid_auto_flow": null,
            "grid_auto_rows": null,
            "grid_column": null,
            "grid_gap": null,
            "grid_row": null,
            "grid_template_areas": null,
            "grid_template_columns": null,
            "grid_template_rows": null,
            "height": null,
            "justify_content": null,
            "justify_items": null,
            "left": null,
            "margin": null,
            "max_height": null,
            "max_width": null,
            "min_height": null,
            "min_width": null,
            "object_fit": null,
            "object_position": null,
            "order": null,
            "overflow": null,
            "overflow_x": null,
            "overflow_y": null,
            "padding": null,
            "right": null,
            "top": null,
            "visibility": null,
            "width": null
          }
        },
        "b9352d71530b482a84c16f107c80c486": {
          "model_module": "@jupyter-widgets/controls",
          "model_name": "DescriptionStyleModel",
          "model_module_version": "1.5.0",
          "state": {
            "_model_module": "@jupyter-widgets/controls",
            "_model_module_version": "1.5.0",
            "_model_name": "DescriptionStyleModel",
            "_view_count": null,
            "_view_module": "@jupyter-widgets/base",
            "_view_module_version": "1.2.0",
            "_view_name": "StyleView",
            "description_width": ""
          }
        },
        "959240ceb0a7493f95bb4ea256025425": {
          "model_module": "@jupyter-widgets/controls",
          "model_name": "HBoxModel",
          "model_module_version": "1.5.0",
          "state": {
            "_dom_classes": [],
            "_model_module": "@jupyter-widgets/controls",
            "_model_module_version": "1.5.0",
            "_model_name": "HBoxModel",
            "_view_count": null,
            "_view_module": "@jupyter-widgets/controls",
            "_view_module_version": "1.5.0",
            "_view_name": "HBoxView",
            "box_style": "",
            "children": [
              "IPY_MODEL_f3278b39fc8440578d491bebf932cc29",
              "IPY_MODEL_0ffa46fa22a648178d7eaa574291e390",
              "IPY_MODEL_0de280a1f60740deb172ddbbe5eaa24c"
            ],
            "layout": "IPY_MODEL_7e6687ebbddd4514bff245c0ab0ac59b"
          }
        },
        "f3278b39fc8440578d491bebf932cc29": {
          "model_module": "@jupyter-widgets/controls",
          "model_name": "HTMLModel",
          "model_module_version": "1.5.0",
          "state": {
            "_dom_classes": [],
            "_model_module": "@jupyter-widgets/controls",
            "_model_module_version": "1.5.0",
            "_model_name": "HTMLModel",
            "_view_count": null,
            "_view_module": "@jupyter-widgets/controls",
            "_view_module_version": "1.5.0",
            "_view_name": "HTMLView",
            "description": "",
            "description_tooltip": null,
            "layout": "IPY_MODEL_0b4408c1c81643a2b3c776db7862eb68",
            "placeholder": "​",
            "style": "IPY_MODEL_cdfa7c9321fa4a3e9a63a698e7f5145f",
            "value": "training the model at fold5: 100%"
          }
        },
        "0ffa46fa22a648178d7eaa574291e390": {
          "model_module": "@jupyter-widgets/controls",
          "model_name": "FloatProgressModel",
          "model_module_version": "1.5.0",
          "state": {
            "_dom_classes": [],
            "_model_module": "@jupyter-widgets/controls",
            "_model_module_version": "1.5.0",
            "_model_name": "FloatProgressModel",
            "_view_count": null,
            "_view_module": "@jupyter-widgets/controls",
            "_view_module_version": "1.5.0",
            "_view_name": "ProgressView",
            "bar_style": "success",
            "description": "",
            "description_tooltip": null,
            "layout": "IPY_MODEL_e08e85ff96a74e2ca1e178de0b9620fb",
            "max": 300,
            "min": 0,
            "orientation": "horizontal",
            "style": "IPY_MODEL_c76469e7b9fe4df1ae3b1b3e4934d5a7",
            "value": 300
          }
        },
        "0de280a1f60740deb172ddbbe5eaa24c": {
          "model_module": "@jupyter-widgets/controls",
          "model_name": "HTMLModel",
          "model_module_version": "1.5.0",
          "state": {
            "_dom_classes": [],
            "_model_module": "@jupyter-widgets/controls",
            "_model_module_version": "1.5.0",
            "_model_name": "HTMLModel",
            "_view_count": null,
            "_view_module": "@jupyter-widgets/controls",
            "_view_module_version": "1.5.0",
            "_view_name": "HTMLView",
            "description": "",
            "description_tooltip": null,
            "layout": "IPY_MODEL_82736083d16541cdbb71e4b952039c64",
            "placeholder": "​",
            "style": "IPY_MODEL_9354fdefb1e942cc9e77e4abbd13727a",
            "value": " 300/300 [01:08&lt;00:00,  5.38it/s]"
          }
        },
        "7e6687ebbddd4514bff245c0ab0ac59b": {
          "model_module": "@jupyter-widgets/base",
          "model_name": "LayoutModel",
          "model_module_version": "1.2.0",
          "state": {
            "_model_module": "@jupyter-widgets/base",
            "_model_module_version": "1.2.0",
            "_model_name": "LayoutModel",
            "_view_count": null,
            "_view_module": "@jupyter-widgets/base",
            "_view_module_version": "1.2.0",
            "_view_name": "LayoutView",
            "align_content": null,
            "align_items": null,
            "align_self": null,
            "border": null,
            "bottom": null,
            "display": null,
            "flex": null,
            "flex_flow": null,
            "grid_area": null,
            "grid_auto_columns": null,
            "grid_auto_flow": null,
            "grid_auto_rows": null,
            "grid_column": null,
            "grid_gap": null,
            "grid_row": null,
            "grid_template_areas": null,
            "grid_template_columns": null,
            "grid_template_rows": null,
            "height": null,
            "justify_content": null,
            "justify_items": null,
            "left": null,
            "margin": null,
            "max_height": null,
            "max_width": null,
            "min_height": null,
            "min_width": null,
            "object_fit": null,
            "object_position": null,
            "order": null,
            "overflow": null,
            "overflow_x": null,
            "overflow_y": null,
            "padding": null,
            "right": null,
            "top": null,
            "visibility": null,
            "width": null
          }
        },
        "0b4408c1c81643a2b3c776db7862eb68": {
          "model_module": "@jupyter-widgets/base",
          "model_name": "LayoutModel",
          "model_module_version": "1.2.0",
          "state": {
            "_model_module": "@jupyter-widgets/base",
            "_model_module_version": "1.2.0",
            "_model_name": "LayoutModel",
            "_view_count": null,
            "_view_module": "@jupyter-widgets/base",
            "_view_module_version": "1.2.0",
            "_view_name": "LayoutView",
            "align_content": null,
            "align_items": null,
            "align_self": null,
            "border": null,
            "bottom": null,
            "display": null,
            "flex": null,
            "flex_flow": null,
            "grid_area": null,
            "grid_auto_columns": null,
            "grid_auto_flow": null,
            "grid_auto_rows": null,
            "grid_column": null,
            "grid_gap": null,
            "grid_row": null,
            "grid_template_areas": null,
            "grid_template_columns": null,
            "grid_template_rows": null,
            "height": null,
            "justify_content": null,
            "justify_items": null,
            "left": null,
            "margin": null,
            "max_height": null,
            "max_width": null,
            "min_height": null,
            "min_width": null,
            "object_fit": null,
            "object_position": null,
            "order": null,
            "overflow": null,
            "overflow_x": null,
            "overflow_y": null,
            "padding": null,
            "right": null,
            "top": null,
            "visibility": null,
            "width": null
          }
        },
        "cdfa7c9321fa4a3e9a63a698e7f5145f": {
          "model_module": "@jupyter-widgets/controls",
          "model_name": "DescriptionStyleModel",
          "model_module_version": "1.5.0",
          "state": {
            "_model_module": "@jupyter-widgets/controls",
            "_model_module_version": "1.5.0",
            "_model_name": "DescriptionStyleModel",
            "_view_count": null,
            "_view_module": "@jupyter-widgets/base",
            "_view_module_version": "1.2.0",
            "_view_name": "StyleView",
            "description_width": ""
          }
        },
        "e08e85ff96a74e2ca1e178de0b9620fb": {
          "model_module": "@jupyter-widgets/base",
          "model_name": "LayoutModel",
          "model_module_version": "1.2.0",
          "state": {
            "_model_module": "@jupyter-widgets/base",
            "_model_module_version": "1.2.0",
            "_model_name": "LayoutModel",
            "_view_count": null,
            "_view_module": "@jupyter-widgets/base",
            "_view_module_version": "1.2.0",
            "_view_name": "LayoutView",
            "align_content": null,
            "align_items": null,
            "align_self": null,
            "border": null,
            "bottom": null,
            "display": null,
            "flex": null,
            "flex_flow": null,
            "grid_area": null,
            "grid_auto_columns": null,
            "grid_auto_flow": null,
            "grid_auto_rows": null,
            "grid_column": null,
            "grid_gap": null,
            "grid_row": null,
            "grid_template_areas": null,
            "grid_template_columns": null,
            "grid_template_rows": null,
            "height": null,
            "justify_content": null,
            "justify_items": null,
            "left": null,
            "margin": null,
            "max_height": null,
            "max_width": null,
            "min_height": null,
            "min_width": null,
            "object_fit": null,
            "object_position": null,
            "order": null,
            "overflow": null,
            "overflow_x": null,
            "overflow_y": null,
            "padding": null,
            "right": null,
            "top": null,
            "visibility": null,
            "width": null
          }
        },
        "c76469e7b9fe4df1ae3b1b3e4934d5a7": {
          "model_module": "@jupyter-widgets/controls",
          "model_name": "ProgressStyleModel",
          "model_module_version": "1.5.0",
          "state": {
            "_model_module": "@jupyter-widgets/controls",
            "_model_module_version": "1.5.0",
            "_model_name": "ProgressStyleModel",
            "_view_count": null,
            "_view_module": "@jupyter-widgets/base",
            "_view_module_version": "1.2.0",
            "_view_name": "StyleView",
            "bar_color": null,
            "description_width": ""
          }
        },
        "82736083d16541cdbb71e4b952039c64": {
          "model_module": "@jupyter-widgets/base",
          "model_name": "LayoutModel",
          "model_module_version": "1.2.0",
          "state": {
            "_model_module": "@jupyter-widgets/base",
            "_model_module_version": "1.2.0",
            "_model_name": "LayoutModel",
            "_view_count": null,
            "_view_module": "@jupyter-widgets/base",
            "_view_module_version": "1.2.0",
            "_view_name": "LayoutView",
            "align_content": null,
            "align_items": null,
            "align_self": null,
            "border": null,
            "bottom": null,
            "display": null,
            "flex": null,
            "flex_flow": null,
            "grid_area": null,
            "grid_auto_columns": null,
            "grid_auto_flow": null,
            "grid_auto_rows": null,
            "grid_column": null,
            "grid_gap": null,
            "grid_row": null,
            "grid_template_areas": null,
            "grid_template_columns": null,
            "grid_template_rows": null,
            "height": null,
            "justify_content": null,
            "justify_items": null,
            "left": null,
            "margin": null,
            "max_height": null,
            "max_width": null,
            "min_height": null,
            "min_width": null,
            "object_fit": null,
            "object_position": null,
            "order": null,
            "overflow": null,
            "overflow_x": null,
            "overflow_y": null,
            "padding": null,
            "right": null,
            "top": null,
            "visibility": null,
            "width": null
          }
        },
        "9354fdefb1e942cc9e77e4abbd13727a": {
          "model_module": "@jupyter-widgets/controls",
          "model_name": "DescriptionStyleModel",
          "model_module_version": "1.5.0",
          "state": {
            "_model_module": "@jupyter-widgets/controls",
            "_model_module_version": "1.5.0",
            "_model_name": "DescriptionStyleModel",
            "_view_count": null,
            "_view_module": "@jupyter-widgets/base",
            "_view_module_version": "1.2.0",
            "_view_name": "StyleView",
            "description_width": ""
          }
        }
      }
    }
  },
  "nbformat": 4,
  "nbformat_minor": 0
}
